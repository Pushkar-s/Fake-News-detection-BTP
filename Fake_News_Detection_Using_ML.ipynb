{
  "nbformat": 4,
  "nbformat_minor": 0,
  "metadata": {
    "kernelspec": {
      "display_name": "Python 3",
      "language": "python",
      "name": "python3"
    },
    "language_info": {
      "codemirror_mode": {
        "name": "ipython",
        "version": 3
      },
      "file_extension": ".py",
      "mimetype": "text/x-python",
      "name": "python",
      "nbconvert_exporter": "python",
      "pygments_lexer": "ipython3",
      "version": "3.6.10"
    },
    "colab": {
      "name": "FakeNewsCount_vectorizer.ipynb",
      "provenance": [],
      "collapsed_sections": []
    }
  },
  "cells": [
    {
      "cell_type": "markdown",
      "metadata": {
        "id": "Jz0XMHrfRvVA"
      },
      "source": [
        "**FAKE NEWS DETECTION USING ML ALGORITHMS**\n",
        "Dataset: https://www.kaggle.com/c/fake-news/data#"
      ]
    },
    {
      "cell_type": "code",
      "metadata": {
        "id": "PAyTdlHwb2OM"
      },
      "source": [
        "import pandas as pd"
      ],
      "execution_count": 1,
      "outputs": []
    },
    {
      "cell_type": "markdown",
      "metadata": {
        "id": "pdguNkB2RuYl"
      },
      "source": [
        ""
      ]
    },
    {
      "cell_type": "code",
      "metadata": {
        "id": "hFrCEzHVefi_"
      },
      "source": [
        "# from google.colab import files\n",
        "# uploaded = files.upload()"
      ],
      "execution_count": null,
      "outputs": []
    },
    {
      "cell_type": "code",
      "metadata": {
        "colab": {
          "base_uri": "https://localhost:8080/"
        },
        "id": "jdnuDptl63D2",
        "outputId": "338d3743-c0de-4f7c-9c25-9c8b3778ff5b"
      },
      "source": [
        "from google.colab import drive\n",
        "drive.mount('/content/drive')"
      ],
      "execution_count": 2,
      "outputs": [
        {
          "output_type": "stream",
          "text": [
            "Mounted at /content/drive\n"
          ],
          "name": "stdout"
        }
      ]
    },
    {
      "cell_type": "code",
      "metadata": {
        "id": "HA6XSRqOmknL"
      },
      "source": [
        "import io"
      ],
      "execution_count": 3,
      "outputs": []
    },
    {
      "cell_type": "code",
      "metadata": {
        "id": "UfFbQVt3HgD1"
      },
      "source": [
        "path = \"/content/drive/MyDrive/train.csv\""
      ],
      "execution_count": 4,
      "outputs": []
    },
    {
      "cell_type": "code",
      "metadata": {
        "id": "krGzbi5kb2ON"
      },
      "source": [
        "# df = pd.read_csv(io.BytesIO(uploaded['train.csv']))\n",
        "df = pd.read_csv(path)"
      ],
      "execution_count": 5,
      "outputs": []
    },
    {
      "cell_type": "code",
      "metadata": {
        "colab": {
          "base_uri": "https://localhost:8080/",
          "height": 204
        },
        "id": "PimrMqIXb2ON",
        "outputId": "235f24e2-4e02-4ebc-fb07-9cb1aa70aaf3"
      },
      "source": [
        "df.head()"
      ],
      "execution_count": 6,
      "outputs": [
        {
          "output_type": "execute_result",
          "data": {
            "text/html": [
              "<div>\n",
              "<style scoped>\n",
              "    .dataframe tbody tr th:only-of-type {\n",
              "        vertical-align: middle;\n",
              "    }\n",
              "\n",
              "    .dataframe tbody tr th {\n",
              "        vertical-align: top;\n",
              "    }\n",
              "\n",
              "    .dataframe thead th {\n",
              "        text-align: right;\n",
              "    }\n",
              "</style>\n",
              "<table border=\"1\" class=\"dataframe\">\n",
              "  <thead>\n",
              "    <tr style=\"text-align: right;\">\n",
              "      <th></th>\n",
              "      <th>id</th>\n",
              "      <th>title</th>\n",
              "      <th>author</th>\n",
              "      <th>text</th>\n",
              "      <th>label</th>\n",
              "    </tr>\n",
              "  </thead>\n",
              "  <tbody>\n",
              "    <tr>\n",
              "      <th>0</th>\n",
              "      <td>0</td>\n",
              "      <td>House Dem Aide: We Didn’t Even See Comey’s Let...</td>\n",
              "      <td>Darrell Lucus</td>\n",
              "      <td>House Dem Aide: We Didn’t Even See Comey’s Let...</td>\n",
              "      <td>1</td>\n",
              "    </tr>\n",
              "    <tr>\n",
              "      <th>1</th>\n",
              "      <td>1</td>\n",
              "      <td>FLYNN: Hillary Clinton, Big Woman on Campus - ...</td>\n",
              "      <td>Daniel J. Flynn</td>\n",
              "      <td>Ever get the feeling your life circles the rou...</td>\n",
              "      <td>0</td>\n",
              "    </tr>\n",
              "    <tr>\n",
              "      <th>2</th>\n",
              "      <td>2</td>\n",
              "      <td>Why the Truth Might Get You Fired</td>\n",
              "      <td>Consortiumnews.com</td>\n",
              "      <td>Why the Truth Might Get You Fired October 29, ...</td>\n",
              "      <td>1</td>\n",
              "    </tr>\n",
              "    <tr>\n",
              "      <th>3</th>\n",
              "      <td>3</td>\n",
              "      <td>15 Civilians Killed In Single US Airstrike Hav...</td>\n",
              "      <td>Jessica Purkiss</td>\n",
              "      <td>Videos 15 Civilians Killed In Single US Airstr...</td>\n",
              "      <td>1</td>\n",
              "    </tr>\n",
              "    <tr>\n",
              "      <th>4</th>\n",
              "      <td>4</td>\n",
              "      <td>Iranian woman jailed for fictional unpublished...</td>\n",
              "      <td>Howard Portnoy</td>\n",
              "      <td>Print \\nAn Iranian woman has been sentenced to...</td>\n",
              "      <td>1</td>\n",
              "    </tr>\n",
              "  </tbody>\n",
              "</table>\n",
              "</div>"
            ],
            "text/plain": [
              "   id  ... label\n",
              "0   0  ...     1\n",
              "1   1  ...     0\n",
              "2   2  ...     1\n",
              "3   3  ...     1\n",
              "4   4  ...     1\n",
              "\n",
              "[5 rows x 5 columns]"
            ]
          },
          "metadata": {
            "tags": []
          },
          "execution_count": 6
        }
      ]
    },
    {
      "cell_type": "code",
      "metadata": {
        "id": "E34HxjUnb2OP"
      },
      "source": [
        "## Get the Independent Features\n",
        "\n",
        "X=df.drop('label',axis=1)"
      ],
      "execution_count": 7,
      "outputs": []
    },
    {
      "cell_type": "code",
      "metadata": {
        "colab": {
          "base_uri": "https://localhost:8080/",
          "height": 204
        },
        "id": "gS763UVjb2OP",
        "outputId": "2b2bac92-1599-43f8-b920-5cdc6b380bed"
      },
      "source": [
        "X.head()"
      ],
      "execution_count": 8,
      "outputs": [
        {
          "output_type": "execute_result",
          "data": {
            "text/html": [
              "<div>\n",
              "<style scoped>\n",
              "    .dataframe tbody tr th:only-of-type {\n",
              "        vertical-align: middle;\n",
              "    }\n",
              "\n",
              "    .dataframe tbody tr th {\n",
              "        vertical-align: top;\n",
              "    }\n",
              "\n",
              "    .dataframe thead th {\n",
              "        text-align: right;\n",
              "    }\n",
              "</style>\n",
              "<table border=\"1\" class=\"dataframe\">\n",
              "  <thead>\n",
              "    <tr style=\"text-align: right;\">\n",
              "      <th></th>\n",
              "      <th>id</th>\n",
              "      <th>title</th>\n",
              "      <th>author</th>\n",
              "      <th>text</th>\n",
              "    </tr>\n",
              "  </thead>\n",
              "  <tbody>\n",
              "    <tr>\n",
              "      <th>0</th>\n",
              "      <td>0</td>\n",
              "      <td>House Dem Aide: We Didn’t Even See Comey’s Let...</td>\n",
              "      <td>Darrell Lucus</td>\n",
              "      <td>House Dem Aide: We Didn’t Even See Comey’s Let...</td>\n",
              "    </tr>\n",
              "    <tr>\n",
              "      <th>1</th>\n",
              "      <td>1</td>\n",
              "      <td>FLYNN: Hillary Clinton, Big Woman on Campus - ...</td>\n",
              "      <td>Daniel J. Flynn</td>\n",
              "      <td>Ever get the feeling your life circles the rou...</td>\n",
              "    </tr>\n",
              "    <tr>\n",
              "      <th>2</th>\n",
              "      <td>2</td>\n",
              "      <td>Why the Truth Might Get You Fired</td>\n",
              "      <td>Consortiumnews.com</td>\n",
              "      <td>Why the Truth Might Get You Fired October 29, ...</td>\n",
              "    </tr>\n",
              "    <tr>\n",
              "      <th>3</th>\n",
              "      <td>3</td>\n",
              "      <td>15 Civilians Killed In Single US Airstrike Hav...</td>\n",
              "      <td>Jessica Purkiss</td>\n",
              "      <td>Videos 15 Civilians Killed In Single US Airstr...</td>\n",
              "    </tr>\n",
              "    <tr>\n",
              "      <th>4</th>\n",
              "      <td>4</td>\n",
              "      <td>Iranian woman jailed for fictional unpublished...</td>\n",
              "      <td>Howard Portnoy</td>\n",
              "      <td>Print \\nAn Iranian woman has been sentenced to...</td>\n",
              "    </tr>\n",
              "  </tbody>\n",
              "</table>\n",
              "</div>"
            ],
            "text/plain": [
              "   id  ...                                               text\n",
              "0   0  ...  House Dem Aide: We Didn’t Even See Comey’s Let...\n",
              "1   1  ...  Ever get the feeling your life circles the rou...\n",
              "2   2  ...  Why the Truth Might Get You Fired October 29, ...\n",
              "3   3  ...  Videos 15 Civilians Killed In Single US Airstr...\n",
              "4   4  ...  Print \\nAn Iranian woman has been sentenced to...\n",
              "\n",
              "[5 rows x 4 columns]"
            ]
          },
          "metadata": {
            "tags": []
          },
          "execution_count": 8
        }
      ]
    },
    {
      "cell_type": "code",
      "metadata": {
        "id": "_fcP_GuOb2OQ"
      },
      "source": [
        "## Get the Dependent features\n",
        "y=df['label']"
      ],
      "execution_count": 9,
      "outputs": []
    },
    {
      "cell_type": "code",
      "metadata": {
        "colab": {
          "base_uri": "https://localhost:8080/"
        },
        "id": "vTRJOtgpb2OQ",
        "outputId": "52c83ceb-d610-47b0-cc9c-52bae328d479"
      },
      "source": [
        "y.head()"
      ],
      "execution_count": 10,
      "outputs": [
        {
          "output_type": "execute_result",
          "data": {
            "text/plain": [
              "0    1\n",
              "1    0\n",
              "2    1\n",
              "3    1\n",
              "4    1\n",
              "Name: label, dtype: int64"
            ]
          },
          "metadata": {
            "tags": []
          },
          "execution_count": 10
        }
      ]
    },
    {
      "cell_type": "code",
      "metadata": {
        "colab": {
          "base_uri": "https://localhost:8080/"
        },
        "id": "8LwcQLyXb2OQ",
        "outputId": "6dca1fcf-1688-48d3-9a18-d888e95dafdb"
      },
      "source": [
        "df.shape"
      ],
      "execution_count": 11,
      "outputs": [
        {
          "output_type": "execute_result",
          "data": {
            "text/plain": [
              "(20800, 5)"
            ]
          },
          "metadata": {
            "tags": []
          },
          "execution_count": 11
        }
      ]
    },
    {
      "cell_type": "code",
      "metadata": {
        "id": "Vsbdl03Ob2OR"
      },
      "source": [
        "from sklearn.feature_extraction.text import CountVectorizer, TfidfVectorizer, HashingVectorizer"
      ],
      "execution_count": 12,
      "outputs": []
    },
    {
      "cell_type": "code",
      "metadata": {
        "id": "Iq3g5n2ub2OR"
      },
      "source": [
        "df=df.dropna()"
      ],
      "execution_count": 13,
      "outputs": []
    },
    {
      "cell_type": "code",
      "metadata": {
        "colab": {
          "base_uri": "https://localhost:8080/",
          "height": 359
        },
        "id": "KKQt3-8_b2OS",
        "outputId": "be481c6b-795c-4449-e2d5-d9ff7f867130"
      },
      "source": [
        "df.head(10)"
      ],
      "execution_count": 14,
      "outputs": [
        {
          "output_type": "execute_result",
          "data": {
            "text/html": [
              "<div>\n",
              "<style scoped>\n",
              "    .dataframe tbody tr th:only-of-type {\n",
              "        vertical-align: middle;\n",
              "    }\n",
              "\n",
              "    .dataframe tbody tr th {\n",
              "        vertical-align: top;\n",
              "    }\n",
              "\n",
              "    .dataframe thead th {\n",
              "        text-align: right;\n",
              "    }\n",
              "</style>\n",
              "<table border=\"1\" class=\"dataframe\">\n",
              "  <thead>\n",
              "    <tr style=\"text-align: right;\">\n",
              "      <th></th>\n",
              "      <th>id</th>\n",
              "      <th>title</th>\n",
              "      <th>author</th>\n",
              "      <th>text</th>\n",
              "      <th>label</th>\n",
              "    </tr>\n",
              "  </thead>\n",
              "  <tbody>\n",
              "    <tr>\n",
              "      <th>0</th>\n",
              "      <td>0</td>\n",
              "      <td>House Dem Aide: We Didn’t Even See Comey’s Let...</td>\n",
              "      <td>Darrell Lucus</td>\n",
              "      <td>House Dem Aide: We Didn’t Even See Comey’s Let...</td>\n",
              "      <td>1</td>\n",
              "    </tr>\n",
              "    <tr>\n",
              "      <th>1</th>\n",
              "      <td>1</td>\n",
              "      <td>FLYNN: Hillary Clinton, Big Woman on Campus - ...</td>\n",
              "      <td>Daniel J. Flynn</td>\n",
              "      <td>Ever get the feeling your life circles the rou...</td>\n",
              "      <td>0</td>\n",
              "    </tr>\n",
              "    <tr>\n",
              "      <th>2</th>\n",
              "      <td>2</td>\n",
              "      <td>Why the Truth Might Get You Fired</td>\n",
              "      <td>Consortiumnews.com</td>\n",
              "      <td>Why the Truth Might Get You Fired October 29, ...</td>\n",
              "      <td>1</td>\n",
              "    </tr>\n",
              "    <tr>\n",
              "      <th>3</th>\n",
              "      <td>3</td>\n",
              "      <td>15 Civilians Killed In Single US Airstrike Hav...</td>\n",
              "      <td>Jessica Purkiss</td>\n",
              "      <td>Videos 15 Civilians Killed In Single US Airstr...</td>\n",
              "      <td>1</td>\n",
              "    </tr>\n",
              "    <tr>\n",
              "      <th>4</th>\n",
              "      <td>4</td>\n",
              "      <td>Iranian woman jailed for fictional unpublished...</td>\n",
              "      <td>Howard Portnoy</td>\n",
              "      <td>Print \\nAn Iranian woman has been sentenced to...</td>\n",
              "      <td>1</td>\n",
              "    </tr>\n",
              "    <tr>\n",
              "      <th>5</th>\n",
              "      <td>5</td>\n",
              "      <td>Jackie Mason: Hollywood Would Love Trump if He...</td>\n",
              "      <td>Daniel Nussbaum</td>\n",
              "      <td>In these trying times, Jackie Mason is the Voi...</td>\n",
              "      <td>0</td>\n",
              "    </tr>\n",
              "    <tr>\n",
              "      <th>7</th>\n",
              "      <td>7</td>\n",
              "      <td>Benoît Hamon Wins French Socialist Party’s Pre...</td>\n",
              "      <td>Alissa J. Rubin</td>\n",
              "      <td>PARIS  —   France chose an idealistic, traditi...</td>\n",
              "      <td>0</td>\n",
              "    </tr>\n",
              "    <tr>\n",
              "      <th>9</th>\n",
              "      <td>9</td>\n",
              "      <td>A Back-Channel Plan for Ukraine and Russia, Co...</td>\n",
              "      <td>Megan Twohey and Scott Shane</td>\n",
              "      <td>A week before Michael T. Flynn resigned as nat...</td>\n",
              "      <td>0</td>\n",
              "    </tr>\n",
              "    <tr>\n",
              "      <th>10</th>\n",
              "      <td>10</td>\n",
              "      <td>Obama’s Organizing for Action Partners with So...</td>\n",
              "      <td>Aaron Klein</td>\n",
              "      <td>Organizing for Action, the activist group that...</td>\n",
              "      <td>0</td>\n",
              "    </tr>\n",
              "    <tr>\n",
              "      <th>11</th>\n",
              "      <td>11</td>\n",
              "      <td>BBC Comedy Sketch \"Real Housewives of ISIS\" Ca...</td>\n",
              "      <td>Chris Tomlinson</td>\n",
              "      <td>The BBC produced spoof on the “Real Housewives...</td>\n",
              "      <td>0</td>\n",
              "    </tr>\n",
              "  </tbody>\n",
              "</table>\n",
              "</div>"
            ],
            "text/plain": [
              "    id  ... label\n",
              "0    0  ...     1\n",
              "1    1  ...     0\n",
              "2    2  ...     1\n",
              "3    3  ...     1\n",
              "4    4  ...     1\n",
              "5    5  ...     0\n",
              "7    7  ...     0\n",
              "9    9  ...     0\n",
              "10  10  ...     0\n",
              "11  11  ...     0\n",
              "\n",
              "[10 rows x 5 columns]"
            ]
          },
          "metadata": {
            "tags": []
          },
          "execution_count": 14
        }
      ]
    },
    {
      "cell_type": "code",
      "metadata": {
        "id": "8Oain5zab2OS"
      },
      "source": [
        "messages=df.copy()"
      ],
      "execution_count": 15,
      "outputs": []
    },
    {
      "cell_type": "code",
      "metadata": {
        "id": "xUA8Qymmb2OS"
      },
      "source": [
        "messages.reset_index(inplace=True)"
      ],
      "execution_count": 16,
      "outputs": []
    },
    {
      "cell_type": "code",
      "metadata": {
        "colab": {
          "base_uri": "https://localhost:8080/",
          "height": 359
        },
        "id": "NZ59dIE6b2OT",
        "outputId": "ec6f90e8-3d4d-422c-8ba5-355352d9bbff"
      },
      "source": [
        "messages.head(10)"
      ],
      "execution_count": 17,
      "outputs": [
        {
          "output_type": "execute_result",
          "data": {
            "text/html": [
              "<div>\n",
              "<style scoped>\n",
              "    .dataframe tbody tr th:only-of-type {\n",
              "        vertical-align: middle;\n",
              "    }\n",
              "\n",
              "    .dataframe tbody tr th {\n",
              "        vertical-align: top;\n",
              "    }\n",
              "\n",
              "    .dataframe thead th {\n",
              "        text-align: right;\n",
              "    }\n",
              "</style>\n",
              "<table border=\"1\" class=\"dataframe\">\n",
              "  <thead>\n",
              "    <tr style=\"text-align: right;\">\n",
              "      <th></th>\n",
              "      <th>index</th>\n",
              "      <th>id</th>\n",
              "      <th>title</th>\n",
              "      <th>author</th>\n",
              "      <th>text</th>\n",
              "      <th>label</th>\n",
              "    </tr>\n",
              "  </thead>\n",
              "  <tbody>\n",
              "    <tr>\n",
              "      <th>0</th>\n",
              "      <td>0</td>\n",
              "      <td>0</td>\n",
              "      <td>House Dem Aide: We Didn’t Even See Comey’s Let...</td>\n",
              "      <td>Darrell Lucus</td>\n",
              "      <td>House Dem Aide: We Didn’t Even See Comey’s Let...</td>\n",
              "      <td>1</td>\n",
              "    </tr>\n",
              "    <tr>\n",
              "      <th>1</th>\n",
              "      <td>1</td>\n",
              "      <td>1</td>\n",
              "      <td>FLYNN: Hillary Clinton, Big Woman on Campus - ...</td>\n",
              "      <td>Daniel J. Flynn</td>\n",
              "      <td>Ever get the feeling your life circles the rou...</td>\n",
              "      <td>0</td>\n",
              "    </tr>\n",
              "    <tr>\n",
              "      <th>2</th>\n",
              "      <td>2</td>\n",
              "      <td>2</td>\n",
              "      <td>Why the Truth Might Get You Fired</td>\n",
              "      <td>Consortiumnews.com</td>\n",
              "      <td>Why the Truth Might Get You Fired October 29, ...</td>\n",
              "      <td>1</td>\n",
              "    </tr>\n",
              "    <tr>\n",
              "      <th>3</th>\n",
              "      <td>3</td>\n",
              "      <td>3</td>\n",
              "      <td>15 Civilians Killed In Single US Airstrike Hav...</td>\n",
              "      <td>Jessica Purkiss</td>\n",
              "      <td>Videos 15 Civilians Killed In Single US Airstr...</td>\n",
              "      <td>1</td>\n",
              "    </tr>\n",
              "    <tr>\n",
              "      <th>4</th>\n",
              "      <td>4</td>\n",
              "      <td>4</td>\n",
              "      <td>Iranian woman jailed for fictional unpublished...</td>\n",
              "      <td>Howard Portnoy</td>\n",
              "      <td>Print \\nAn Iranian woman has been sentenced to...</td>\n",
              "      <td>1</td>\n",
              "    </tr>\n",
              "    <tr>\n",
              "      <th>5</th>\n",
              "      <td>5</td>\n",
              "      <td>5</td>\n",
              "      <td>Jackie Mason: Hollywood Would Love Trump if He...</td>\n",
              "      <td>Daniel Nussbaum</td>\n",
              "      <td>In these trying times, Jackie Mason is the Voi...</td>\n",
              "      <td>0</td>\n",
              "    </tr>\n",
              "    <tr>\n",
              "      <th>6</th>\n",
              "      <td>7</td>\n",
              "      <td>7</td>\n",
              "      <td>Benoît Hamon Wins French Socialist Party’s Pre...</td>\n",
              "      <td>Alissa J. Rubin</td>\n",
              "      <td>PARIS  —   France chose an idealistic, traditi...</td>\n",
              "      <td>0</td>\n",
              "    </tr>\n",
              "    <tr>\n",
              "      <th>7</th>\n",
              "      <td>9</td>\n",
              "      <td>9</td>\n",
              "      <td>A Back-Channel Plan for Ukraine and Russia, Co...</td>\n",
              "      <td>Megan Twohey and Scott Shane</td>\n",
              "      <td>A week before Michael T. Flynn resigned as nat...</td>\n",
              "      <td>0</td>\n",
              "    </tr>\n",
              "    <tr>\n",
              "      <th>8</th>\n",
              "      <td>10</td>\n",
              "      <td>10</td>\n",
              "      <td>Obama’s Organizing for Action Partners with So...</td>\n",
              "      <td>Aaron Klein</td>\n",
              "      <td>Organizing for Action, the activist group that...</td>\n",
              "      <td>0</td>\n",
              "    </tr>\n",
              "    <tr>\n",
              "      <th>9</th>\n",
              "      <td>11</td>\n",
              "      <td>11</td>\n",
              "      <td>BBC Comedy Sketch \"Real Housewives of ISIS\" Ca...</td>\n",
              "      <td>Chris Tomlinson</td>\n",
              "      <td>The BBC produced spoof on the “Real Housewives...</td>\n",
              "      <td>0</td>\n",
              "    </tr>\n",
              "  </tbody>\n",
              "</table>\n",
              "</div>"
            ],
            "text/plain": [
              "   index  id  ...                                               text label\n",
              "0      0   0  ...  House Dem Aide: We Didn’t Even See Comey’s Let...     1\n",
              "1      1   1  ...  Ever get the feeling your life circles the rou...     0\n",
              "2      2   2  ...  Why the Truth Might Get You Fired October 29, ...     1\n",
              "3      3   3  ...  Videos 15 Civilians Killed In Single US Airstr...     1\n",
              "4      4   4  ...  Print \\nAn Iranian woman has been sentenced to...     1\n",
              "5      5   5  ...  In these trying times, Jackie Mason is the Voi...     0\n",
              "6      7   7  ...  PARIS  —   France chose an idealistic, traditi...     0\n",
              "7      9   9  ...  A week before Michael T. Flynn resigned as nat...     0\n",
              "8     10  10  ...  Organizing for Action, the activist group that...     0\n",
              "9     11  11  ...  The BBC produced spoof on the “Real Housewives...     0\n",
              "\n",
              "[10 rows x 6 columns]"
            ]
          },
          "metadata": {
            "tags": []
          },
          "execution_count": 17
        }
      ]
    },
    {
      "cell_type": "code",
      "metadata": {
        "colab": {
          "base_uri": "https://localhost:8080/",
          "height": 35
        },
        "id": "eEOhV8YPb2OT",
        "outputId": "a3151aab-d4b0-4364-f702-207da2dde617"
      },
      "source": [
        "messages['title'][6]"
      ],
      "execution_count": 18,
      "outputs": [
        {
          "output_type": "execute_result",
          "data": {
            "application/vnd.google.colaboratory.intrinsic+json": {
              "type": "string"
            },
            "text/plain": [
              "'Benoît Hamon Wins French Socialist Party’s Presidential Nomination - The New York Times'"
            ]
          },
          "metadata": {
            "tags": []
          },
          "execution_count": 18
        }
      ]
    },
    {
      "cell_type": "code",
      "metadata": {
        "colab": {
          "base_uri": "https://localhost:8080/"
        },
        "id": "On75hW8fqZGv",
        "outputId": "02dd1d6c-5051-487c-ce67-b01337cca534"
      },
      "source": [
        "import nltk\n",
        "nltk.download('all')"
      ],
      "execution_count": 19,
      "outputs": [
        {
          "output_type": "stream",
          "text": [
            "[nltk_data] Downloading collection 'all'\n",
            "[nltk_data]    | \n",
            "[nltk_data]    | Downloading package abc to /root/nltk_data...\n",
            "[nltk_data]    |   Unzipping corpora/abc.zip.\n",
            "[nltk_data]    | Downloading package alpino to /root/nltk_data...\n",
            "[nltk_data]    |   Unzipping corpora/alpino.zip.\n",
            "[nltk_data]    | Downloading package biocreative_ppi to\n",
            "[nltk_data]    |     /root/nltk_data...\n",
            "[nltk_data]    |   Unzipping corpora/biocreative_ppi.zip.\n",
            "[nltk_data]    | Downloading package brown to /root/nltk_data...\n",
            "[nltk_data]    |   Unzipping corpora/brown.zip.\n",
            "[nltk_data]    | Downloading package brown_tei to /root/nltk_data...\n",
            "[nltk_data]    |   Unzipping corpora/brown_tei.zip.\n",
            "[nltk_data]    | Downloading package cess_cat to /root/nltk_data...\n",
            "[nltk_data]    |   Unzipping corpora/cess_cat.zip.\n",
            "[nltk_data]    | Downloading package cess_esp to /root/nltk_data...\n",
            "[nltk_data]    |   Unzipping corpora/cess_esp.zip.\n",
            "[nltk_data]    | Downloading package chat80 to /root/nltk_data...\n",
            "[nltk_data]    |   Unzipping corpora/chat80.zip.\n",
            "[nltk_data]    | Downloading package city_database to\n",
            "[nltk_data]    |     /root/nltk_data...\n",
            "[nltk_data]    |   Unzipping corpora/city_database.zip.\n",
            "[nltk_data]    | Downloading package cmudict to /root/nltk_data...\n",
            "[nltk_data]    |   Unzipping corpora/cmudict.zip.\n",
            "[nltk_data]    | Downloading package comparative_sentences to\n",
            "[nltk_data]    |     /root/nltk_data...\n",
            "[nltk_data]    |   Unzipping corpora/comparative_sentences.zip.\n",
            "[nltk_data]    | Downloading package comtrans to /root/nltk_data...\n",
            "[nltk_data]    | Downloading package conll2000 to /root/nltk_data...\n",
            "[nltk_data]    |   Unzipping corpora/conll2000.zip.\n",
            "[nltk_data]    | Downloading package conll2002 to /root/nltk_data...\n",
            "[nltk_data]    |   Unzipping corpora/conll2002.zip.\n",
            "[nltk_data]    | Downloading package conll2007 to /root/nltk_data...\n",
            "[nltk_data]    | Downloading package crubadan to /root/nltk_data...\n",
            "[nltk_data]    |   Unzipping corpora/crubadan.zip.\n",
            "[nltk_data]    | Downloading package dependency_treebank to\n",
            "[nltk_data]    |     /root/nltk_data...\n",
            "[nltk_data]    |   Unzipping corpora/dependency_treebank.zip.\n",
            "[nltk_data]    | Downloading package dolch to /root/nltk_data...\n",
            "[nltk_data]    |   Unzipping corpora/dolch.zip.\n",
            "[nltk_data]    | Downloading package europarl_raw to\n",
            "[nltk_data]    |     /root/nltk_data...\n",
            "[nltk_data]    |   Unzipping corpora/europarl_raw.zip.\n",
            "[nltk_data]    | Downloading package floresta to /root/nltk_data...\n",
            "[nltk_data]    |   Unzipping corpora/floresta.zip.\n",
            "[nltk_data]    | Downloading package framenet_v15 to\n",
            "[nltk_data]    |     /root/nltk_data...\n",
            "[nltk_data]    |   Unzipping corpora/framenet_v15.zip.\n",
            "[nltk_data]    | Downloading package framenet_v17 to\n",
            "[nltk_data]    |     /root/nltk_data...\n",
            "[nltk_data]    |   Unzipping corpora/framenet_v17.zip.\n",
            "[nltk_data]    | Downloading package gazetteers to /root/nltk_data...\n",
            "[nltk_data]    |   Unzipping corpora/gazetteers.zip.\n",
            "[nltk_data]    | Downloading package genesis to /root/nltk_data...\n",
            "[nltk_data]    |   Unzipping corpora/genesis.zip.\n",
            "[nltk_data]    | Downloading package gutenberg to /root/nltk_data...\n",
            "[nltk_data]    |   Unzipping corpora/gutenberg.zip.\n",
            "[nltk_data]    | Downloading package ieer to /root/nltk_data...\n",
            "[nltk_data]    |   Unzipping corpora/ieer.zip.\n",
            "[nltk_data]    | Downloading package inaugural to /root/nltk_data...\n",
            "[nltk_data]    |   Unzipping corpora/inaugural.zip.\n",
            "[nltk_data]    | Downloading package indian to /root/nltk_data...\n",
            "[nltk_data]    |   Unzipping corpora/indian.zip.\n",
            "[nltk_data]    | Downloading package jeita to /root/nltk_data...\n",
            "[nltk_data]    | Downloading package kimmo to /root/nltk_data...\n",
            "[nltk_data]    |   Unzipping corpora/kimmo.zip.\n",
            "[nltk_data]    | Downloading package knbc to /root/nltk_data...\n",
            "[nltk_data]    | Downloading package lin_thesaurus to\n",
            "[nltk_data]    |     /root/nltk_data...\n",
            "[nltk_data]    |   Unzipping corpora/lin_thesaurus.zip.\n",
            "[nltk_data]    | Downloading package mac_morpho to /root/nltk_data...\n",
            "[nltk_data]    |   Unzipping corpora/mac_morpho.zip.\n",
            "[nltk_data]    | Downloading package machado to /root/nltk_data...\n",
            "[nltk_data]    | Downloading package masc_tagged to /root/nltk_data...\n",
            "[nltk_data]    | Downloading package moses_sample to\n",
            "[nltk_data]    |     /root/nltk_data...\n",
            "[nltk_data]    |   Unzipping models/moses_sample.zip.\n",
            "[nltk_data]    | Downloading package movie_reviews to\n",
            "[nltk_data]    |     /root/nltk_data...\n",
            "[nltk_data]    |   Unzipping corpora/movie_reviews.zip.\n",
            "[nltk_data]    | Downloading package names to /root/nltk_data...\n",
            "[nltk_data]    |   Unzipping corpora/names.zip.\n",
            "[nltk_data]    | Downloading package nombank.1.0 to /root/nltk_data...\n",
            "[nltk_data]    | Downloading package nps_chat to /root/nltk_data...\n",
            "[nltk_data]    |   Unzipping corpora/nps_chat.zip.\n",
            "[nltk_data]    | Downloading package omw to /root/nltk_data...\n",
            "[nltk_data]    |   Unzipping corpora/omw.zip.\n",
            "[nltk_data]    | Downloading package opinion_lexicon to\n",
            "[nltk_data]    |     /root/nltk_data...\n",
            "[nltk_data]    |   Unzipping corpora/opinion_lexicon.zip.\n",
            "[nltk_data]    | Downloading package paradigms to /root/nltk_data...\n",
            "[nltk_data]    |   Unzipping corpora/paradigms.zip.\n",
            "[nltk_data]    | Downloading package pil to /root/nltk_data...\n",
            "[nltk_data]    |   Unzipping corpora/pil.zip.\n",
            "[nltk_data]    | Downloading package pl196x to /root/nltk_data...\n",
            "[nltk_data]    |   Unzipping corpora/pl196x.zip.\n",
            "[nltk_data]    | Downloading package ppattach to /root/nltk_data...\n",
            "[nltk_data]    |   Unzipping corpora/ppattach.zip.\n",
            "[nltk_data]    | Downloading package problem_reports to\n",
            "[nltk_data]    |     /root/nltk_data...\n",
            "[nltk_data]    |   Unzipping corpora/problem_reports.zip.\n",
            "[nltk_data]    | Downloading package propbank to /root/nltk_data...\n",
            "[nltk_data]    | Downloading package ptb to /root/nltk_data...\n",
            "[nltk_data]    |   Unzipping corpora/ptb.zip.\n",
            "[nltk_data]    | Downloading package product_reviews_1 to\n",
            "[nltk_data]    |     /root/nltk_data...\n",
            "[nltk_data]    |   Unzipping corpora/product_reviews_1.zip.\n",
            "[nltk_data]    | Downloading package product_reviews_2 to\n",
            "[nltk_data]    |     /root/nltk_data...\n",
            "[nltk_data]    |   Unzipping corpora/product_reviews_2.zip.\n",
            "[nltk_data]    | Downloading package pros_cons to /root/nltk_data...\n",
            "[nltk_data]    |   Unzipping corpora/pros_cons.zip.\n",
            "[nltk_data]    | Downloading package qc to /root/nltk_data...\n",
            "[nltk_data]    |   Unzipping corpora/qc.zip.\n",
            "[nltk_data]    | Downloading package reuters to /root/nltk_data...\n",
            "[nltk_data]    | Downloading package rte to /root/nltk_data...\n",
            "[nltk_data]    |   Unzipping corpora/rte.zip.\n",
            "[nltk_data]    | Downloading package semcor to /root/nltk_data...\n",
            "[nltk_data]    | Downloading package senseval to /root/nltk_data...\n",
            "[nltk_data]    |   Unzipping corpora/senseval.zip.\n",
            "[nltk_data]    | Downloading package sentiwordnet to\n",
            "[nltk_data]    |     /root/nltk_data...\n",
            "[nltk_data]    |   Unzipping corpora/sentiwordnet.zip.\n",
            "[nltk_data]    | Downloading package sentence_polarity to\n",
            "[nltk_data]    |     /root/nltk_data...\n",
            "[nltk_data]    |   Unzipping corpora/sentence_polarity.zip.\n",
            "[nltk_data]    | Downloading package shakespeare to /root/nltk_data...\n",
            "[nltk_data]    |   Unzipping corpora/shakespeare.zip.\n",
            "[nltk_data]    | Downloading package sinica_treebank to\n",
            "[nltk_data]    |     /root/nltk_data...\n",
            "[nltk_data]    |   Unzipping corpora/sinica_treebank.zip.\n",
            "[nltk_data]    | Downloading package smultron to /root/nltk_data...\n",
            "[nltk_data]    |   Unzipping corpora/smultron.zip.\n",
            "[nltk_data]    | Downloading package state_union to /root/nltk_data...\n",
            "[nltk_data]    |   Unzipping corpora/state_union.zip.\n",
            "[nltk_data]    | Downloading package stopwords to /root/nltk_data...\n",
            "[nltk_data]    |   Unzipping corpora/stopwords.zip.\n",
            "[nltk_data]    | Downloading package subjectivity to\n",
            "[nltk_data]    |     /root/nltk_data...\n",
            "[nltk_data]    |   Unzipping corpora/subjectivity.zip.\n",
            "[nltk_data]    | Downloading package swadesh to /root/nltk_data...\n",
            "[nltk_data]    |   Unzipping corpora/swadesh.zip.\n",
            "[nltk_data]    | Downloading package switchboard to /root/nltk_data...\n",
            "[nltk_data]    |   Unzipping corpora/switchboard.zip.\n",
            "[nltk_data]    | Downloading package timit to /root/nltk_data...\n",
            "[nltk_data]    |   Unzipping corpora/timit.zip.\n",
            "[nltk_data]    | Downloading package toolbox to /root/nltk_data...\n",
            "[nltk_data]    |   Unzipping corpora/toolbox.zip.\n",
            "[nltk_data]    | Downloading package treebank to /root/nltk_data...\n",
            "[nltk_data]    |   Unzipping corpora/treebank.zip.\n",
            "[nltk_data]    | Downloading package twitter_samples to\n",
            "[nltk_data]    |     /root/nltk_data...\n",
            "[nltk_data]    |   Unzipping corpora/twitter_samples.zip.\n",
            "[nltk_data]    | Downloading package udhr to /root/nltk_data...\n",
            "[nltk_data]    |   Unzipping corpora/udhr.zip.\n",
            "[nltk_data]    | Downloading package udhr2 to /root/nltk_data...\n",
            "[nltk_data]    |   Unzipping corpora/udhr2.zip.\n",
            "[nltk_data]    | Downloading package unicode_samples to\n",
            "[nltk_data]    |     /root/nltk_data...\n",
            "[nltk_data]    |   Unzipping corpora/unicode_samples.zip.\n",
            "[nltk_data]    | Downloading package universal_treebanks_v20 to\n",
            "[nltk_data]    |     /root/nltk_data...\n",
            "[nltk_data]    | Downloading package verbnet to /root/nltk_data...\n",
            "[nltk_data]    |   Unzipping corpora/verbnet.zip.\n",
            "[nltk_data]    | Downloading package verbnet3 to /root/nltk_data...\n",
            "[nltk_data]    |   Unzipping corpora/verbnet3.zip.\n",
            "[nltk_data]    | Downloading package webtext to /root/nltk_data...\n",
            "[nltk_data]    |   Unzipping corpora/webtext.zip.\n",
            "[nltk_data]    | Downloading package wordnet to /root/nltk_data...\n",
            "[nltk_data]    |   Unzipping corpora/wordnet.zip.\n",
            "[nltk_data]    | Downloading package wordnet_ic to /root/nltk_data...\n",
            "[nltk_data]    |   Unzipping corpora/wordnet_ic.zip.\n",
            "[nltk_data]    | Downloading package words to /root/nltk_data...\n",
            "[nltk_data]    |   Unzipping corpora/words.zip.\n",
            "[nltk_data]    | Downloading package ycoe to /root/nltk_data...\n",
            "[nltk_data]    |   Unzipping corpora/ycoe.zip.\n",
            "[nltk_data]    | Downloading package rslp to /root/nltk_data...\n",
            "[nltk_data]    |   Unzipping stemmers/rslp.zip.\n",
            "[nltk_data]    | Downloading package maxent_treebank_pos_tagger to\n",
            "[nltk_data]    |     /root/nltk_data...\n",
            "[nltk_data]    |   Unzipping taggers/maxent_treebank_pos_tagger.zip.\n",
            "[nltk_data]    | Downloading package universal_tagset to\n",
            "[nltk_data]    |     /root/nltk_data...\n",
            "[nltk_data]    |   Unzipping taggers/universal_tagset.zip.\n",
            "[nltk_data]    | Downloading package maxent_ne_chunker to\n",
            "[nltk_data]    |     /root/nltk_data...\n",
            "[nltk_data]    |   Unzipping chunkers/maxent_ne_chunker.zip.\n",
            "[nltk_data]    | Downloading package punkt to /root/nltk_data...\n",
            "[nltk_data]    |   Unzipping tokenizers/punkt.zip.\n",
            "[nltk_data]    | Downloading package book_grammars to\n",
            "[nltk_data]    |     /root/nltk_data...\n",
            "[nltk_data]    |   Unzipping grammars/book_grammars.zip.\n",
            "[nltk_data]    | Downloading package sample_grammars to\n",
            "[nltk_data]    |     /root/nltk_data...\n",
            "[nltk_data]    |   Unzipping grammars/sample_grammars.zip.\n",
            "[nltk_data]    | Downloading package spanish_grammars to\n",
            "[nltk_data]    |     /root/nltk_data...\n",
            "[nltk_data]    |   Unzipping grammars/spanish_grammars.zip.\n",
            "[nltk_data]    | Downloading package basque_grammars to\n",
            "[nltk_data]    |     /root/nltk_data...\n",
            "[nltk_data]    |   Unzipping grammars/basque_grammars.zip.\n",
            "[nltk_data]    | Downloading package large_grammars to\n",
            "[nltk_data]    |     /root/nltk_data...\n",
            "[nltk_data]    |   Unzipping grammars/large_grammars.zip.\n",
            "[nltk_data]    | Downloading package tagsets to /root/nltk_data...\n",
            "[nltk_data]    |   Unzipping help/tagsets.zip.\n",
            "[nltk_data]    | Downloading package snowball_data to\n",
            "[nltk_data]    |     /root/nltk_data...\n",
            "[nltk_data]    | Downloading package bllip_wsj_no_aux to\n",
            "[nltk_data]    |     /root/nltk_data...\n",
            "[nltk_data]    |   Unzipping models/bllip_wsj_no_aux.zip.\n",
            "[nltk_data]    | Downloading package word2vec_sample to\n",
            "[nltk_data]    |     /root/nltk_data...\n",
            "[nltk_data]    |   Unzipping models/word2vec_sample.zip.\n",
            "[nltk_data]    | Downloading package panlex_swadesh to\n",
            "[nltk_data]    |     /root/nltk_data...\n",
            "[nltk_data]    | Downloading package mte_teip5 to /root/nltk_data...\n",
            "[nltk_data]    |   Unzipping corpora/mte_teip5.zip.\n",
            "[nltk_data]    | Downloading package averaged_perceptron_tagger to\n",
            "[nltk_data]    |     /root/nltk_data...\n",
            "[nltk_data]    |   Unzipping taggers/averaged_perceptron_tagger.zip.\n",
            "[nltk_data]    | Downloading package averaged_perceptron_tagger_ru to\n",
            "[nltk_data]    |     /root/nltk_data...\n",
            "[nltk_data]    |   Unzipping\n",
            "[nltk_data]    |       taggers/averaged_perceptron_tagger_ru.zip.\n",
            "[nltk_data]    | Downloading package perluniprops to\n",
            "[nltk_data]    |     /root/nltk_data...\n",
            "[nltk_data]    |   Unzipping misc/perluniprops.zip.\n",
            "[nltk_data]    | Downloading package nonbreaking_prefixes to\n",
            "[nltk_data]    |     /root/nltk_data...\n",
            "[nltk_data]    |   Unzipping corpora/nonbreaking_prefixes.zip.\n",
            "[nltk_data]    | Downloading package vader_lexicon to\n",
            "[nltk_data]    |     /root/nltk_data...\n",
            "[nltk_data]    | Downloading package porter_test to /root/nltk_data...\n",
            "[nltk_data]    |   Unzipping stemmers/porter_test.zip.\n",
            "[nltk_data]    | Downloading package wmt15_eval to /root/nltk_data...\n",
            "[nltk_data]    |   Unzipping models/wmt15_eval.zip.\n",
            "[nltk_data]    | Downloading package mwa_ppdb to /root/nltk_data...\n",
            "[nltk_data]    |   Unzipping misc/mwa_ppdb.zip.\n",
            "[nltk_data]    | \n",
            "[nltk_data]  Done downloading collection all\n"
          ],
          "name": "stdout"
        },
        {
          "output_type": "execute_result",
          "data": {
            "text/plain": [
              "True"
            ]
          },
          "metadata": {
            "tags": []
          },
          "execution_count": 19
        }
      ]
    },
    {
      "cell_type": "code",
      "metadata": {
        "id": "WWhVOUbUb2OT"
      },
      "source": [
        "from nltk.corpus import stopwords\n",
        "from nltk.stem.porter import PorterStemmer\n",
        "import re\n",
        "ps = PorterStemmer()\n",
        "corpus = []\n",
        "for i in range(0, len(messages)):\n",
        "    review = re.sub('[^a-zA-Z]', ' ', messages['title'][i])\n",
        "    review = review.lower()\n",
        "    review = review.split()\n",
        "    \n",
        "    review = [ps.stem(word) for word in review if not word in stopwords.words('english')]\n",
        "    review = ' '.join(review)\n",
        "    corpus.append(review)"
      ],
      "execution_count": 20,
      "outputs": []
    },
    {
      "cell_type": "code",
      "metadata": {
        "colab": {
          "base_uri": "https://localhost:8080/",
          "height": 35
        },
        "id": "PV84kyhXb2OU",
        "outputId": "06ca9e8b-11d9-46a6-9060-ceb2c8e5c9e2"
      },
      "source": [
        "corpus[3]"
      ],
      "execution_count": 21,
      "outputs": [
        {
          "output_type": "execute_result",
          "data": {
            "application/vnd.google.colaboratory.intrinsic+json": {
              "type": "string"
            },
            "text/plain": [
              "'civilian kill singl us airstrik identifi'"
            ]
          },
          "metadata": {
            "tags": []
          },
          "execution_count": 21
        }
      ]
    },
    {
      "cell_type": "code",
      "metadata": {
        "id": "w2v0OojCb2OU"
      },
      "source": [
        "## Applying Countvectorizer\n",
        "# Creating the Bag of Words model\n",
        "from sklearn.feature_extraction.text import CountVectorizer\n",
        "cv = CountVectorizer(max_features=5000,ngram_range=(1,3))\n",
        "cv.fit(corpus)\n",
        "X = cv.transform(corpus).toarray()"
      ],
      "execution_count": 22,
      "outputs": []
    },
    {
      "cell_type": "code",
      "metadata": {
        "colab": {
          "base_uri": "https://localhost:8080/"
        },
        "id": "Kj9EVLk6b2OU",
        "outputId": "393c2fc2-7fc6-4a52-fb21-6177910eed02"
      },
      "source": [
        "X.shape"
      ],
      "execution_count": 23,
      "outputs": [
        {
          "output_type": "execute_result",
          "data": {
            "text/plain": [
              "(18285, 5000)"
            ]
          },
          "metadata": {
            "tags": []
          },
          "execution_count": 23
        }
      ]
    },
    {
      "cell_type": "code",
      "metadata": {
        "id": "6mg8HKJOb2OV"
      },
      "source": [
        "y=messages['label']"
      ],
      "execution_count": 24,
      "outputs": []
    },
    {
      "cell_type": "code",
      "metadata": {
        "id": "IjlP6xxVb2OV"
      },
      "source": [
        "## Divide the dataset into Train and Test\n",
        "from sklearn.model_selection import train_test_split\n",
        "X_train, X_test, y_train, y_test = train_test_split(X, y, test_size=0.33, random_state=0)"
      ],
      "execution_count": 25,
      "outputs": []
    },
    {
      "cell_type": "code",
      "metadata": {
        "colab": {
          "base_uri": "https://localhost:8080/"
        },
        "id": "_AqQkst1b2OV",
        "outputId": "d4690ff5-de61-4dc3-a854-579fa1e5493f"
      },
      "source": [
        "cv.get_feature_names()[:20]"
      ],
      "execution_count": 26,
      "outputs": [
        {
          "output_type": "execute_result",
          "data": {
            "text/plain": [
              "['abandon',\n",
              " 'abc',\n",
              " 'abc news',\n",
              " 'abduct',\n",
              " 'abe',\n",
              " 'abedin',\n",
              " 'abl',\n",
              " 'abort',\n",
              " 'abroad',\n",
              " 'absolut',\n",
              " 'abstain',\n",
              " 'absurd',\n",
              " 'abus',\n",
              " 'abus new',\n",
              " 'abus new york',\n",
              " 'academi',\n",
              " 'accept',\n",
              " 'access',\n",
              " 'access pipelin',\n",
              " 'access pipelin protest']"
            ]
          },
          "metadata": {
            "tags": []
          },
          "execution_count": 26
        }
      ]
    },
    {
      "cell_type": "code",
      "metadata": {
        "colab": {
          "base_uri": "https://localhost:8080/"
        },
        "id": "LRFuFHJEb2OW",
        "outputId": "41bc9b3d-6b31-4a61-bcca-a74f9ed1456c"
      },
      "source": [
        "cv.get_params()"
      ],
      "execution_count": 27,
      "outputs": [
        {
          "output_type": "execute_result",
          "data": {
            "text/plain": [
              "{'analyzer': 'word',\n",
              " 'binary': False,\n",
              " 'decode_error': 'strict',\n",
              " 'dtype': numpy.int64,\n",
              " 'encoding': 'utf-8',\n",
              " 'input': 'content',\n",
              " 'lowercase': True,\n",
              " 'max_df': 1.0,\n",
              " 'max_features': 5000,\n",
              " 'min_df': 1,\n",
              " 'ngram_range': (1, 3),\n",
              " 'preprocessor': None,\n",
              " 'stop_words': None,\n",
              " 'strip_accents': None,\n",
              " 'token_pattern': '(?u)\\\\b\\\\w\\\\w+\\\\b',\n",
              " 'tokenizer': None,\n",
              " 'vocabulary': None}"
            ]
          },
          "metadata": {
            "tags": []
          },
          "execution_count": 27
        }
      ]
    },
    {
      "cell_type": "code",
      "metadata": {
        "id": "GfpzWAVdb2OW"
      },
      "source": [
        "count_df = pd.DataFrame(X_train, columns=cv.get_feature_names())"
      ],
      "execution_count": 28,
      "outputs": []
    },
    {
      "cell_type": "code",
      "metadata": {
        "colab": {
          "base_uri": "https://localhost:8080/",
          "height": 287
        },
        "id": "4EhZtHRCb2OW",
        "outputId": "febdb69d-6038-4f4e-bb93-6031592ecc79"
      },
      "source": [
        "count_df.head()"
      ],
      "execution_count": 29,
      "outputs": [
        {
          "output_type": "execute_result",
          "data": {
            "text/html": [
              "<div>\n",
              "<style scoped>\n",
              "    .dataframe tbody tr th:only-of-type {\n",
              "        vertical-align: middle;\n",
              "    }\n",
              "\n",
              "    .dataframe tbody tr th {\n",
              "        vertical-align: top;\n",
              "    }\n",
              "\n",
              "    .dataframe thead th {\n",
              "        text-align: right;\n",
              "    }\n",
              "</style>\n",
              "<table border=\"1\" class=\"dataframe\">\n",
              "  <thead>\n",
              "    <tr style=\"text-align: right;\">\n",
              "      <th></th>\n",
              "      <th>abandon</th>\n",
              "      <th>abc</th>\n",
              "      <th>abc news</th>\n",
              "      <th>abduct</th>\n",
              "      <th>abe</th>\n",
              "      <th>abedin</th>\n",
              "      <th>abl</th>\n",
              "      <th>abort</th>\n",
              "      <th>abroad</th>\n",
              "      <th>absolut</th>\n",
              "      <th>abstain</th>\n",
              "      <th>absurd</th>\n",
              "      <th>abus</th>\n",
              "      <th>abus new</th>\n",
              "      <th>abus new york</th>\n",
              "      <th>academi</th>\n",
              "      <th>accept</th>\n",
              "      <th>access</th>\n",
              "      <th>access pipelin</th>\n",
              "      <th>access pipelin protest</th>\n",
              "      <th>accid</th>\n",
              "      <th>accident</th>\n",
              "      <th>accord</th>\n",
              "      <th>account</th>\n",
              "      <th>accus</th>\n",
              "      <th>accus trump</th>\n",
              "      <th>achiev</th>\n",
              "      <th>acknowledg</th>\n",
              "      <th>acknowledg emf</th>\n",
              "      <th>acknowledg emf damag</th>\n",
              "      <th>aclu</th>\n",
              "      <th>acquit</th>\n",
              "      <th>acquitt</th>\n",
              "      <th>acr</th>\n",
              "      <th>across</th>\n",
              "      <th>act</th>\n",
              "      <th>act like</th>\n",
              "      <th>act new</th>\n",
              "      <th>act new york</th>\n",
              "      <th>action</th>\n",
              "      <th>...</th>\n",
              "      <th>yahoo</th>\n",
              "      <th>yale</th>\n",
              "      <th>ye</th>\n",
              "      <th>year</th>\n",
              "      <th>year ago</th>\n",
              "      <th>year breitbart</th>\n",
              "      <th>year eve</th>\n",
              "      <th>year later</th>\n",
              "      <th>year new</th>\n",
              "      <th>year new york</th>\n",
              "      <th>year old</th>\n",
              "      <th>year old girl</th>\n",
              "      <th>year sinc</th>\n",
              "      <th>yemen</th>\n",
              "      <th>yet</th>\n",
              "      <th>yet anoth</th>\n",
              "      <th>yiannopoulo</th>\n",
              "      <th>yield</th>\n",
              "      <th>yo</th>\n",
              "      <th>york</th>\n",
              "      <th>york citi</th>\n",
              "      <th>york new</th>\n",
              "      <th>york new york</th>\n",
              "      <th>york state</th>\n",
              "      <th>york time</th>\n",
              "      <th>yorker</th>\n",
              "      <th>young</th>\n",
              "      <th>youth</th>\n",
              "      <th>youtub</th>\n",
              "      <th>zealand</th>\n",
              "      <th>zero</th>\n",
              "      <th>zika</th>\n",
              "      <th>zika viru</th>\n",
              "      <th>zionist</th>\n",
              "      <th>zone</th>\n",
              "      <th>zone new</th>\n",
              "      <th>zone new york</th>\n",
              "      <th>zoo</th>\n",
              "      <th>zu</th>\n",
              "      <th>zuckerberg</th>\n",
              "    </tr>\n",
              "  </thead>\n",
              "  <tbody>\n",
              "    <tr>\n",
              "      <th>0</th>\n",
              "      <td>0</td>\n",
              "      <td>0</td>\n",
              "      <td>0</td>\n",
              "      <td>0</td>\n",
              "      <td>0</td>\n",
              "      <td>0</td>\n",
              "      <td>0</td>\n",
              "      <td>0</td>\n",
              "      <td>0</td>\n",
              "      <td>0</td>\n",
              "      <td>0</td>\n",
              "      <td>0</td>\n",
              "      <td>0</td>\n",
              "      <td>0</td>\n",
              "      <td>0</td>\n",
              "      <td>0</td>\n",
              "      <td>0</td>\n",
              "      <td>0</td>\n",
              "      <td>0</td>\n",
              "      <td>0</td>\n",
              "      <td>0</td>\n",
              "      <td>0</td>\n",
              "      <td>0</td>\n",
              "      <td>0</td>\n",
              "      <td>0</td>\n",
              "      <td>0</td>\n",
              "      <td>0</td>\n",
              "      <td>0</td>\n",
              "      <td>0</td>\n",
              "      <td>0</td>\n",
              "      <td>0</td>\n",
              "      <td>0</td>\n",
              "      <td>0</td>\n",
              "      <td>0</td>\n",
              "      <td>0</td>\n",
              "      <td>0</td>\n",
              "      <td>0</td>\n",
              "      <td>0</td>\n",
              "      <td>0</td>\n",
              "      <td>0</td>\n",
              "      <td>...</td>\n",
              "      <td>0</td>\n",
              "      <td>0</td>\n",
              "      <td>0</td>\n",
              "      <td>0</td>\n",
              "      <td>0</td>\n",
              "      <td>0</td>\n",
              "      <td>0</td>\n",
              "      <td>0</td>\n",
              "      <td>0</td>\n",
              "      <td>0</td>\n",
              "      <td>0</td>\n",
              "      <td>0</td>\n",
              "      <td>0</td>\n",
              "      <td>0</td>\n",
              "      <td>0</td>\n",
              "      <td>0</td>\n",
              "      <td>0</td>\n",
              "      <td>0</td>\n",
              "      <td>0</td>\n",
              "      <td>0</td>\n",
              "      <td>0</td>\n",
              "      <td>0</td>\n",
              "      <td>0</td>\n",
              "      <td>0</td>\n",
              "      <td>0</td>\n",
              "      <td>0</td>\n",
              "      <td>1</td>\n",
              "      <td>0</td>\n",
              "      <td>0</td>\n",
              "      <td>0</td>\n",
              "      <td>0</td>\n",
              "      <td>0</td>\n",
              "      <td>0</td>\n",
              "      <td>0</td>\n",
              "      <td>0</td>\n",
              "      <td>0</td>\n",
              "      <td>0</td>\n",
              "      <td>0</td>\n",
              "      <td>0</td>\n",
              "      <td>0</td>\n",
              "    </tr>\n",
              "    <tr>\n",
              "      <th>1</th>\n",
              "      <td>0</td>\n",
              "      <td>0</td>\n",
              "      <td>0</td>\n",
              "      <td>0</td>\n",
              "      <td>0</td>\n",
              "      <td>0</td>\n",
              "      <td>0</td>\n",
              "      <td>0</td>\n",
              "      <td>0</td>\n",
              "      <td>0</td>\n",
              "      <td>0</td>\n",
              "      <td>0</td>\n",
              "      <td>0</td>\n",
              "      <td>0</td>\n",
              "      <td>0</td>\n",
              "      <td>0</td>\n",
              "      <td>0</td>\n",
              "      <td>0</td>\n",
              "      <td>0</td>\n",
              "      <td>0</td>\n",
              "      <td>0</td>\n",
              "      <td>0</td>\n",
              "      <td>0</td>\n",
              "      <td>0</td>\n",
              "      <td>0</td>\n",
              "      <td>0</td>\n",
              "      <td>0</td>\n",
              "      <td>0</td>\n",
              "      <td>0</td>\n",
              "      <td>0</td>\n",
              "      <td>0</td>\n",
              "      <td>0</td>\n",
              "      <td>0</td>\n",
              "      <td>0</td>\n",
              "      <td>0</td>\n",
              "      <td>0</td>\n",
              "      <td>0</td>\n",
              "      <td>0</td>\n",
              "      <td>0</td>\n",
              "      <td>0</td>\n",
              "      <td>...</td>\n",
              "      <td>0</td>\n",
              "      <td>0</td>\n",
              "      <td>0</td>\n",
              "      <td>0</td>\n",
              "      <td>0</td>\n",
              "      <td>0</td>\n",
              "      <td>0</td>\n",
              "      <td>0</td>\n",
              "      <td>0</td>\n",
              "      <td>0</td>\n",
              "      <td>0</td>\n",
              "      <td>0</td>\n",
              "      <td>0</td>\n",
              "      <td>0</td>\n",
              "      <td>0</td>\n",
              "      <td>0</td>\n",
              "      <td>0</td>\n",
              "      <td>1</td>\n",
              "      <td>0</td>\n",
              "      <td>0</td>\n",
              "      <td>0</td>\n",
              "      <td>0</td>\n",
              "      <td>0</td>\n",
              "      <td>0</td>\n",
              "      <td>0</td>\n",
              "      <td>0</td>\n",
              "      <td>0</td>\n",
              "      <td>0</td>\n",
              "      <td>0</td>\n",
              "      <td>0</td>\n",
              "      <td>0</td>\n",
              "      <td>0</td>\n",
              "      <td>0</td>\n",
              "      <td>0</td>\n",
              "      <td>0</td>\n",
              "      <td>0</td>\n",
              "      <td>0</td>\n",
              "      <td>0</td>\n",
              "      <td>0</td>\n",
              "      <td>0</td>\n",
              "    </tr>\n",
              "    <tr>\n",
              "      <th>2</th>\n",
              "      <td>0</td>\n",
              "      <td>0</td>\n",
              "      <td>0</td>\n",
              "      <td>0</td>\n",
              "      <td>0</td>\n",
              "      <td>0</td>\n",
              "      <td>0</td>\n",
              "      <td>0</td>\n",
              "      <td>0</td>\n",
              "      <td>0</td>\n",
              "      <td>0</td>\n",
              "      <td>0</td>\n",
              "      <td>0</td>\n",
              "      <td>0</td>\n",
              "      <td>0</td>\n",
              "      <td>0</td>\n",
              "      <td>0</td>\n",
              "      <td>0</td>\n",
              "      <td>0</td>\n",
              "      <td>0</td>\n",
              "      <td>0</td>\n",
              "      <td>0</td>\n",
              "      <td>0</td>\n",
              "      <td>0</td>\n",
              "      <td>0</td>\n",
              "      <td>0</td>\n",
              "      <td>0</td>\n",
              "      <td>0</td>\n",
              "      <td>0</td>\n",
              "      <td>0</td>\n",
              "      <td>0</td>\n",
              "      <td>0</td>\n",
              "      <td>0</td>\n",
              "      <td>0</td>\n",
              "      <td>0</td>\n",
              "      <td>0</td>\n",
              "      <td>0</td>\n",
              "      <td>0</td>\n",
              "      <td>0</td>\n",
              "      <td>0</td>\n",
              "      <td>...</td>\n",
              "      <td>0</td>\n",
              "      <td>0</td>\n",
              "      <td>0</td>\n",
              "      <td>0</td>\n",
              "      <td>0</td>\n",
              "      <td>0</td>\n",
              "      <td>0</td>\n",
              "      <td>0</td>\n",
              "      <td>0</td>\n",
              "      <td>0</td>\n",
              "      <td>0</td>\n",
              "      <td>0</td>\n",
              "      <td>0</td>\n",
              "      <td>0</td>\n",
              "      <td>0</td>\n",
              "      <td>0</td>\n",
              "      <td>0</td>\n",
              "      <td>0</td>\n",
              "      <td>0</td>\n",
              "      <td>1</td>\n",
              "      <td>0</td>\n",
              "      <td>0</td>\n",
              "      <td>0</td>\n",
              "      <td>0</td>\n",
              "      <td>1</td>\n",
              "      <td>0</td>\n",
              "      <td>0</td>\n",
              "      <td>0</td>\n",
              "      <td>0</td>\n",
              "      <td>0</td>\n",
              "      <td>0</td>\n",
              "      <td>0</td>\n",
              "      <td>0</td>\n",
              "      <td>0</td>\n",
              "      <td>0</td>\n",
              "      <td>0</td>\n",
              "      <td>0</td>\n",
              "      <td>0</td>\n",
              "      <td>0</td>\n",
              "      <td>0</td>\n",
              "    </tr>\n",
              "    <tr>\n",
              "      <th>3</th>\n",
              "      <td>0</td>\n",
              "      <td>0</td>\n",
              "      <td>0</td>\n",
              "      <td>0</td>\n",
              "      <td>0</td>\n",
              "      <td>0</td>\n",
              "      <td>0</td>\n",
              "      <td>0</td>\n",
              "      <td>0</td>\n",
              "      <td>0</td>\n",
              "      <td>0</td>\n",
              "      <td>0</td>\n",
              "      <td>0</td>\n",
              "      <td>0</td>\n",
              "      <td>0</td>\n",
              "      <td>0</td>\n",
              "      <td>0</td>\n",
              "      <td>0</td>\n",
              "      <td>0</td>\n",
              "      <td>0</td>\n",
              "      <td>0</td>\n",
              "      <td>0</td>\n",
              "      <td>0</td>\n",
              "      <td>0</td>\n",
              "      <td>0</td>\n",
              "      <td>0</td>\n",
              "      <td>0</td>\n",
              "      <td>0</td>\n",
              "      <td>0</td>\n",
              "      <td>0</td>\n",
              "      <td>0</td>\n",
              "      <td>0</td>\n",
              "      <td>0</td>\n",
              "      <td>0</td>\n",
              "      <td>0</td>\n",
              "      <td>0</td>\n",
              "      <td>0</td>\n",
              "      <td>0</td>\n",
              "      <td>0</td>\n",
              "      <td>0</td>\n",
              "      <td>...</td>\n",
              "      <td>0</td>\n",
              "      <td>0</td>\n",
              "      <td>0</td>\n",
              "      <td>0</td>\n",
              "      <td>0</td>\n",
              "      <td>0</td>\n",
              "      <td>0</td>\n",
              "      <td>0</td>\n",
              "      <td>0</td>\n",
              "      <td>0</td>\n",
              "      <td>0</td>\n",
              "      <td>0</td>\n",
              "      <td>0</td>\n",
              "      <td>0</td>\n",
              "      <td>0</td>\n",
              "      <td>0</td>\n",
              "      <td>0</td>\n",
              "      <td>0</td>\n",
              "      <td>0</td>\n",
              "      <td>0</td>\n",
              "      <td>0</td>\n",
              "      <td>0</td>\n",
              "      <td>0</td>\n",
              "      <td>0</td>\n",
              "      <td>0</td>\n",
              "      <td>0</td>\n",
              "      <td>0</td>\n",
              "      <td>0</td>\n",
              "      <td>0</td>\n",
              "      <td>0</td>\n",
              "      <td>0</td>\n",
              "      <td>0</td>\n",
              "      <td>0</td>\n",
              "      <td>0</td>\n",
              "      <td>0</td>\n",
              "      <td>0</td>\n",
              "      <td>0</td>\n",
              "      <td>0</td>\n",
              "      <td>0</td>\n",
              "      <td>0</td>\n",
              "    </tr>\n",
              "    <tr>\n",
              "      <th>4</th>\n",
              "      <td>0</td>\n",
              "      <td>0</td>\n",
              "      <td>0</td>\n",
              "      <td>0</td>\n",
              "      <td>0</td>\n",
              "      <td>0</td>\n",
              "      <td>0</td>\n",
              "      <td>0</td>\n",
              "      <td>0</td>\n",
              "      <td>1</td>\n",
              "      <td>0</td>\n",
              "      <td>0</td>\n",
              "      <td>0</td>\n",
              "      <td>0</td>\n",
              "      <td>0</td>\n",
              "      <td>0</td>\n",
              "      <td>0</td>\n",
              "      <td>0</td>\n",
              "      <td>0</td>\n",
              "      <td>0</td>\n",
              "      <td>0</td>\n",
              "      <td>0</td>\n",
              "      <td>0</td>\n",
              "      <td>0</td>\n",
              "      <td>0</td>\n",
              "      <td>0</td>\n",
              "      <td>0</td>\n",
              "      <td>0</td>\n",
              "      <td>0</td>\n",
              "      <td>0</td>\n",
              "      <td>0</td>\n",
              "      <td>0</td>\n",
              "      <td>0</td>\n",
              "      <td>0</td>\n",
              "      <td>0</td>\n",
              "      <td>0</td>\n",
              "      <td>0</td>\n",
              "      <td>0</td>\n",
              "      <td>0</td>\n",
              "      <td>0</td>\n",
              "      <td>...</td>\n",
              "      <td>0</td>\n",
              "      <td>0</td>\n",
              "      <td>0</td>\n",
              "      <td>0</td>\n",
              "      <td>0</td>\n",
              "      <td>0</td>\n",
              "      <td>0</td>\n",
              "      <td>0</td>\n",
              "      <td>0</td>\n",
              "      <td>0</td>\n",
              "      <td>0</td>\n",
              "      <td>0</td>\n",
              "      <td>0</td>\n",
              "      <td>0</td>\n",
              "      <td>0</td>\n",
              "      <td>0</td>\n",
              "      <td>0</td>\n",
              "      <td>0</td>\n",
              "      <td>0</td>\n",
              "      <td>0</td>\n",
              "      <td>0</td>\n",
              "      <td>0</td>\n",
              "      <td>0</td>\n",
              "      <td>0</td>\n",
              "      <td>0</td>\n",
              "      <td>0</td>\n",
              "      <td>0</td>\n",
              "      <td>0</td>\n",
              "      <td>0</td>\n",
              "      <td>0</td>\n",
              "      <td>0</td>\n",
              "      <td>0</td>\n",
              "      <td>0</td>\n",
              "      <td>0</td>\n",
              "      <td>0</td>\n",
              "      <td>0</td>\n",
              "      <td>0</td>\n",
              "      <td>0</td>\n",
              "      <td>0</td>\n",
              "      <td>0</td>\n",
              "    </tr>\n",
              "  </tbody>\n",
              "</table>\n",
              "<p>5 rows × 5000 columns</p>\n",
              "</div>"
            ],
            "text/plain": [
              "   abandon  abc  abc news  abduct  ...  zone new york  zoo  zu  zuckerberg\n",
              "0        0    0         0       0  ...              0    0   0           0\n",
              "1        0    0         0       0  ...              0    0   0           0\n",
              "2        0    0         0       0  ...              0    0   0           0\n",
              "3        0    0         0       0  ...              0    0   0           0\n",
              "4        0    0         0       0  ...              0    0   0           0\n",
              "\n",
              "[5 rows x 5000 columns]"
            ]
          },
          "metadata": {
            "tags": []
          },
          "execution_count": 29
        }
      ]
    },
    {
      "cell_type": "code",
      "metadata": {
        "id": "JIm63283b2OX"
      },
      "source": [
        "import matplotlib.pyplot as plt"
      ],
      "execution_count": 30,
      "outputs": []
    },
    {
      "cell_type": "code",
      "metadata": {
        "id": "3_SvDduvb2OX"
      },
      "source": [
        "def plot_confusion_matrix(cm, classes,\n",
        "                          normalize=False,\n",
        "                          title='Confusion matrix',\n",
        "                          cmap=plt.cm.Blues):\n",
        "    \"\"\"\n",
        "    See full source and example: \n",
        "    http://scikit-learn.org/stable/auto_examples/model_selection/plot_confusion_matrix.html\n",
        "    \n",
        "    This function prints and plots the confusion matrix.\n",
        "    Normalization can be applied by setting `normalize=True`.\n",
        "    \"\"\"\n",
        "    plt.imshow(cm, interpolation='nearest', cmap=cmap)\n",
        "    plt.title(title)\n",
        "    plt.colorbar()\n",
        "    tick_marks = np.arange(len(classes))\n",
        "    plt.xticks(tick_marks, classes, rotation=45)\n",
        "    plt.yticks(tick_marks, classes)\n",
        "\n",
        "    if normalize:\n",
        "        cm = cm.astype('float') / cm.sum(axis=1)[:, np.newaxis]\n",
        "        print(\"Normalized confusion matrix\")\n",
        "    else:\n",
        "        print('Confusion matrix, without normalization')\n",
        "\n",
        "    thresh = cm.max() / 2.\n",
        "    for i, j in itertools.product(range(cm.shape[0]), range(cm.shape[1])):\n",
        "        plt.text(j, i, cm[i, j],\n",
        "                 horizontalalignment=\"center\",\n",
        "                 color=\"white\" if cm[i, j] > thresh else \"black\")\n",
        "\n",
        "    plt.tight_layout()\n",
        "    plt.ylabel('True label')\n",
        "    plt.xlabel('Predicted label')"
      ],
      "execution_count": 31,
      "outputs": []
    },
    {
      "cell_type": "markdown",
      "metadata": {
        "id": "xoc5D7M4b2OX"
      },
      "source": [
        "### MultinomialNB Algorithm"
      ]
    },
    {
      "cell_type": "code",
      "metadata": {
        "id": "GW1MsG4Hb2OY"
      },
      "source": [
        "\n",
        "from sklearn.naive_bayes import MultinomialNB\n",
        "from sklearn import metrics\n",
        "classifier=MultinomialNB()\n"
      ],
      "execution_count": 33,
      "outputs": []
    },
    {
      "cell_type": "code",
      "metadata": {
        "colab": {
          "base_uri": "https://localhost:8080/",
          "height": 163
        },
        "id": "GlhYyAbknM4j",
        "outputId": "db89bebb-74c0-4ee4-8eaf-e933442a44fc"
      },
      "source": [
        ""
      ],
      "execution_count": null,
      "outputs": [
        {
          "output_type": "error",
          "ename": "AttributeError",
          "evalue": "ignored",
          "traceback": [
            "\u001b[0;31m---------------------------------------------------------------------------\u001b[0m",
            "\u001b[0;31mAttributeError\u001b[0m                            Traceback (most recent call last)",
            "\u001b[0;32m<ipython-input-45-8af1e9dd16d7>\u001b[0m in \u001b[0;36m<module>\u001b[0;34m()\u001b[0m\n\u001b[0;32m----> 1\u001b[0;31m \u001b[0mclassifier\u001b[0m\u001b[0;34m.\u001b[0m\u001b[0mcompile\u001b[0m\u001b[0;34m(\u001b[0m\u001b[0mloss\u001b[0m\u001b[0;34m=\u001b[0m\u001b[0mloss_function_used\u001b[0m\u001b[0;34m,\u001b[0m \u001b[0moptimizer\u001b[0m\u001b[0;34m=\u001b[0m\u001b[0mkeras\u001b[0m\u001b[0;34m.\u001b[0m\u001b[0moptimizers\u001b[0m\u001b[0;34m.\u001b[0m\u001b[0madam\u001b[0m\u001b[0;34m(\u001b[0m\u001b[0mlr\u001b[0m\u001b[0;34m=\u001b[0m\u001b[0;36m0.001\u001b[0m\u001b[0;34m)\u001b[0m\u001b[0;34m,\u001b[0m \u001b[0mmetrics\u001b[0m\u001b[0;34m=\u001b[0m\u001b[0;34m[\u001b[0m\u001b[0;34m'accuracy'\u001b[0m\u001b[0;34m]\u001b[0m\u001b[0;34m)\u001b[0m\u001b[0;34m\u001b[0m\u001b[0;34m\u001b[0m\u001b[0m\n\u001b[0m",
            "\u001b[0;31mAttributeError\u001b[0m: module 'keras.optimizers' has no attribute 'adam'"
          ]
        }
      ]
    },
    {
      "cell_type": "code",
      "metadata": {
        "id": "J3rwHYgQb2OY"
      },
      "source": [
        "from sklearn import metrics\n",
        "import numpy as np\n",
        "import itertools"
      ],
      "execution_count": 34,
      "outputs": []
    },
    {
      "cell_type": "code",
      "metadata": {
        "colab": {
          "base_uri": "https://localhost:8080/"
        },
        "id": "FXgshbdNb2OY",
        "outputId": "3b1561fd-94d9-4813-d028-97a68d17b020"
      },
      "source": [
        "classifier.fit(X_train, y_train)\n",
        "# pred = classifier.predict(X_test)\n",
        "# score = metrics.accuracy_score(y_test, pred)\n",
        "# print(\"accuracy:   %0.3f\" % score)\n",
        "# cm = metrics.confusion_matrix(y_test, pred)\n",
        "# plot_confusion_matrix(cm, classes=['FAKE', 'REAL'])"
      ],
      "execution_count": 35,
      "outputs": [
        {
          "output_type": "execute_result",
          "data": {
            "text/plain": [
              "MultinomialNB(alpha=1.0, class_prior=None, fit_prior=True)"
            ]
          },
          "metadata": {
            "tags": []
          },
          "execution_count": 35
        }
      ]
    },
    {
      "cell_type": "code",
      "metadata": {
        "id": "S3O-JbA_b2OY"
      },
      "source": [
        "# classifier.fit(X_train, y_train)\n",
        "# pred = classifier.predict(X_test)\n",
        "# score = metrics.accuracy_score(y_test, pred)\n",
        "# score"
      ],
      "execution_count": null,
      "outputs": []
    },
    {
      "cell_type": "code",
      "metadata": {
        "id": "VOBgDgabb2OZ"
      },
      "source": [
        "# y_train.shape"
      ],
      "execution_count": null,
      "outputs": []
    },
    {
      "cell_type": "code",
      "metadata": {
        "id": "g96GpRd9lOIg"
      },
      "source": [
        "# model.add(Dense(3, activation='softmax'))"
      ],
      "execution_count": null,
      "outputs": []
    },
    {
      "cell_type": "code",
      "metadata": {
        "id": "YrYJ0w5v2nT0"
      },
      "source": [
        "import pickle"
      ],
      "execution_count": 36,
      "outputs": []
    },
    {
      "cell_type": "code",
      "metadata": {
        "id": "LiXOhqWl4wML"
      },
      "source": [
        "with open('/content/drive/MyDrive/Fake1/multinomial_pickle1.pkl','wb') as f:\n",
        "  pickle.dump(classifier,f)"
      ],
      "execution_count": 37,
      "outputs": []
    },
    {
      "cell_type": "code",
      "metadata": {
        "id": "Z4nchMdmJ60t"
      },
      "source": [
        "with open('/content/drive/MyDrive/Fake1/multinomial_pickle1.pkl', 'rb') as fid:\n",
        "     model1 = pickle.load(fid)"
      ],
      "execution_count": 38,
      "outputs": []
    },
    {
      "cell_type": "code",
      "metadata": {
        "id": "GNOOzlKL6l4j"
      },
      "source": [
        "# testpath = \"/content/drive/MyDrive/test.csv\""
      ],
      "execution_count": null,
      "outputs": []
    },
    {
      "cell_type": "code",
      "metadata": {
        "id": "pjyeqqYJ6EMN"
      },
      "source": [
        "# df = pd.read_csv(testpath)"
      ],
      "execution_count": null,
      "outputs": []
    },
    {
      "cell_type": "code",
      "metadata": {
        "colab": {
          "base_uri": "https://localhost:8080/",
          "height": 345
        },
        "id": "GCbBme4h6Eft",
        "outputId": "7083a0f3-b947-4f2d-be68-54fad989de5b"
      },
      "source": [
        "pred = model1.predict(X_test)\n",
        "score = metrics.accuracy_score(y_test, pred)\n",
        "print(\"accuracy:   %0.3f\" % score)\n",
        "cm = metrics.confusion_matrix(y_test, pred)\n",
        "plot_confusion_matrix(cm, classes=['FAKE', 'REAL'])"
      ],
      "execution_count": 39,
      "outputs": [
        {
          "output_type": "stream",
          "text": [
            "accuracy:   0.902\n",
            "Confusion matrix, without normalization\n"
          ],
          "name": "stdout"
        },
        {
          "output_type": "display_data",
          "data": {
            "image/png": "[encoded data removed]",
            "text/plain": [
              "<Figure size 432x288 with 2 Axes>"
            ]
          },
          "metadata": {
            "tags": [],
            "needs_background": "light"
          }
        }
      ]
    },
    {
      "cell_type": "code",
      "metadata": {
        "colab": {
          "base_uri": "https://localhost:8080/"
        },
        "id": "Aj7DdhFa9uM7",
        "outputId": "b8b53b42-27be-40c1-af9d-42ea8b4cb821"
      },
      "source": [
        "pred = model1.predict(X_test)\n",
        "score = metrics.accuracy_score(y_test, pred)\n",
        "score"
      ],
      "execution_count": 40,
      "outputs": [
        {
          "output_type": "execute_result",
          "data": {
            "text/plain": [
              "0.9019055509527755"
            ]
          },
          "metadata": {
            "tags": []
          },
          "execution_count": 40
        }
      ]
    },
    {
      "cell_type": "markdown",
      "metadata": {
        "id": "AZ5dSxORb2OZ"
      },
      "source": [
        "### Passive Aggressive Classifier Algorithm"
      ]
    },
    {
      "cell_type": "code",
      "metadata": {
        "id": "NjaKvv2K4uwq"
      },
      "source": [
        ""
      ],
      "execution_count": null,
      "outputs": []
    },
    {
      "cell_type": "code",
      "metadata": {
        "id": "SBVbv9Qob2OZ"
      },
      "source": [
        "from sklearn.linear_model import PassiveAggressiveClassifier\n",
        "# linear_clf = PassiveAggressiveClassifier(n_iter=50)\n",
        "linear_clf = PassiveAggressiveClassifier()"
      ],
      "execution_count": 41,
      "outputs": []
    },
    {
      "cell_type": "code",
      "metadata": {
        "colab": {
          "base_uri": "https://localhost:8080/",
          "height": 345
        },
        "id": "MoAsuPrmb2Oa",
        "outputId": "37000904-8159-4b20-9735-759227e60341"
      },
      "source": [
        "linear_clf.fit(X_train, y_train)\n",
        "pred = linear_clf.predict(X_test)\n",
        "score = metrics.accuracy_score(y_test, pred)\n",
        "print(\"accuracy:   %0.3f\" % score)\n",
        "cm = metrics.confusion_matrix(y_test, pred)\n",
        "plot_confusion_matrix(cm, classes=['FAKE Data', 'REAL Data'])"
      ],
      "execution_count": 42,
      "outputs": [
        {
          "output_type": "stream",
          "text": [
            "accuracy:   0.920\n",
            "Confusion matrix, without normalization\n"
          ],
          "name": "stdout"
        },
        {
          "output_type": "display_data",
          "data": {
            "image/png": "[encoded data removed]",
            "text/plain": [
              "<Figure size 432x288 with 2 Axes>"
            ]
          },
          "metadata": {
            "tags": [],
            "needs_background": "light"
          }
        }
      ]
    },
    {
      "cell_type": "code",
      "metadata": {
        "id": "bNf9eiZkMDAd"
      },
      "source": [
        "with open('/content/drive/MyDrive/Fake1/passive_aggressive_pickle1.pkl','wb') as f:\n",
        "  pickle.dump(linear_clf,f)"
      ],
      "execution_count": 43,
      "outputs": []
    },
    {
      "cell_type": "markdown",
      "metadata": {
        "id": "FkmiW1isb2Oa"
      },
      "source": [
        "### Multinomial Classifier with Hyperparameter"
      ]
    },
    {
      "cell_type": "code",
      "metadata": {
        "id": "vw08qSNvb2Oa"
      },
      "source": [
        "classifier=MultinomialNB(alpha=0.1)"
      ],
      "execution_count": 44,
      "outputs": []
    },
    {
      "cell_type": "code",
      "metadata": {
        "colab": {
          "base_uri": "https://localhost:8080/"
        },
        "id": "sCnFn0Qvb2Ob",
        "outputId": "6032721d-7695-49fb-9d8c-6dbada8d5de6"
      },
      "source": [
        "previous_score=0\n",
        "for alpha in np.arange(0,1,0.1):\n",
        "    sub_classifier=MultinomialNB(alpha=alpha)\n",
        "    sub_classifier.fit(X_train,y_train)\n",
        "    y_pred=sub_classifier.predict(X_test)\n",
        "    score = metrics.accuracy_score(y_test, y_pred)\n",
        "    if score>previous_score:\n",
        "        classifier=sub_classifier\n",
        "    print(\"Alpha: {}, Score : {}\".format(alpha,score))"
      ],
      "execution_count": 45,
      "outputs": [
        {
          "output_type": "stream",
          "text": [
            "/usr/local/lib/python3.7/dist-packages/sklearn/naive_bayes.py:507: UserWarning: alpha too small will result in numeric errors, setting alpha = 1.0e-10\n",
            "  'setting alpha = %.1e' % _ALPHA_MIN)\n"
          ],
          "name": "stderr"
        },
        {
          "output_type": "stream",
          "text": [
            "Alpha: 0.0, Score : 0.8903065451532726\n",
            "Alpha: 0.1, Score : 0.9020712510356255\n",
            "Alpha: 0.2, Score : 0.9025683512841757\n",
            "Alpha: 0.30000000000000004, Score : 0.9024026512013256\n",
            "Alpha: 0.4, Score : 0.9017398508699255\n",
            "Alpha: 0.5, Score : 0.9015741507870754\n",
            "Alpha: 0.6000000000000001, Score : 0.9022369511184756\n",
            "Alpha: 0.7000000000000001, Score : 0.9025683512841757\n",
            "Alpha: 0.8, Score : 0.9015741507870754\n",
            "Alpha: 0.9, Score : 0.9017398508699255\n"
          ],
          "name": "stdout"
        }
      ]
    },
    {
      "cell_type": "code",
      "metadata": {
        "id": "OFTdAgX0RVXQ"
      },
      "source": [
        ""
      ],
      "execution_count": null,
      "outputs": []
    },
    {
      "cell_type": "code",
      "metadata": {
        "id": "088Fx6R9b2Ob"
      },
      "source": [
        "## Get Features names\n",
        "feature_names = cv.get_feature_names()"
      ],
      "execution_count": 46,
      "outputs": []
    },
    {
      "cell_type": "code",
      "metadata": {
        "colab": {
          "base_uri": "https://localhost:8080/"
        },
        "id": "0ffdYw2Ob2Ob",
        "outputId": "7ebdfc8a-0ac9-419d-a206-35523af75900"
      },
      "source": [
        "classifier.coef_[0]"
      ],
      "execution_count": 47,
      "outputs": [
        {
          "output_type": "execute_result",
          "data": {
            "text/plain": [
              "array([ -9.10038883,  -8.62276128,  -9.10038883, ..., -10.79498456,\n",
              "        -8.91467169,  -9.32864749])"
            ]
          },
          "metadata": {
            "tags": []
          },
          "execution_count": 47
        }
      ]
    },
    {
      "cell_type": "code",
      "metadata": {
        "colab": {
          "base_uri": "https://localhost:8080/"
        },
        "id": "Zmtvv_0ib2Ob",
        "outputId": "0576d828-13c8-4ac3-bc36-5a51c0c7c9bb"
      },
      "source": [
        "### Most real\n",
        "sorted(zip(classifier.coef_[0], feature_names), reverse=True)[:20]"
      ],
      "execution_count": 48,
      "outputs": [
        {
          "output_type": "execute_result",
          "data": {
            "text/plain": [
              "[(-4.000149156604985, 'trump'),\n",
              " (-4.287872694443541, 'hillari'),\n",
              " (-4.396389621061519, 'clinton'),\n",
              " (-4.899969726208735, 'elect'),\n",
              " (-5.176598600897756, 'new'),\n",
              " (-5.234730366348767, 'comment'),\n",
              " (-5.273968180973631, 'video'),\n",
              " (-5.3868167681180115, 'war'),\n",
              " (-5.396821854078974, 'us'),\n",
              " (-5.412019714988405, 'hillari clinton'),\n",
              " (-5.417137433425386, 'fbi'),\n",
              " (-5.48068448454208, 'vote'),\n",
              " (-5.566255475855405, 'email'),\n",
              " (-5.578238842742501, 'world'),\n",
              " (-5.634015380199913, 'obama'),\n",
              " (-5.734501455772904, 'donald'),\n",
              " (-5.763095255139644, 'donald trump'),\n",
              " (-5.785090276725191, 'russia'),\n",
              " (-5.846224665218559, 'day'),\n",
              " (-5.862110622807369, 'america')]"
            ]
          },
          "metadata": {
            "tags": []
          },
          "execution_count": 48
        }
      ]
    },
    {
      "cell_type": "code",
      "metadata": {
        "colab": {
          "base_uri": "https://localhost:8080/"
        },
        "id": "yEuVe3gfb2Oc",
        "outputId": "a791a702-5725-4144-f4eb-2cd95111554a"
      },
      "source": [
        "### Most fake\n",
        "sorted(zip(classifier.coef_[0], feature_names))[:5000]"
      ],
      "execution_count": 49,
      "outputs": [
        {
          "output_type": "execute_result",
          "data": {
            "text/plain": [
              "[(-10.794984555596727, 'abe'),\n",
              " (-10.794984555596727, 'abroad'),\n",
              " (-10.794984555596727, 'abus new'),\n",
              " (-10.794984555596727, 'abus new york'),\n",
              " (-10.794984555596727, 'act new'),\n",
              " (-10.794984555596727, 'act new york'),\n",
              " (-10.794984555596727, 'advic'),\n",
              " (-10.794984555596727, 'advis new'),\n",
              " (-10.794984555596727, 'advis new york'),\n",
              " (-10.794984555596727, 'age new'),\n",
              " (-10.794984555596727, 'age new york'),\n",
              " (-10.794984555596727, 'agenda breitbart'),\n",
              " (-10.794984555596727, 'ail'),\n",
              " (-10.794984555596727, 'aleppo new'),\n",
              " (-10.794984555596727, 'aleppo new york'),\n",
              " (-10.794984555596727, 'ali'),\n",
              " (-10.794984555596727, 'america breitbart'),\n",
              " (-10.794984555596727, 'america new york'),\n",
              " (-10.794984555596727, 'american breitbart'),\n",
              " (-10.794984555596727, 'american new'),\n",
              " (-10.794984555596727, 'american new york'),\n",
              " (-10.794984555596727, 'ami'),\n",
              " (-10.794984555596727, 'ami schumer'),\n",
              " (-10.794984555596727, 'amp'),\n",
              " (-10.794984555596727, 'ann'),\n",
              " (-10.794984555596727, 'ann coulter'),\n",
              " (-10.794984555596727, 'applaud'),\n",
              " (-10.794984555596727, 'arson'),\n",
              " (-10.794984555596727, 'asian'),\n",
              " (-10.794984555596727, 'assail'),\n",
              " (-10.794984555596727, 'athlet'),\n",
              " (-10.794984555596727, 'attack breitbart'),\n",
              " (-10.794984555596727, 'attack new'),\n",
              " (-10.794984555596727, 'attack new york'),\n",
              " (-10.794984555596727, 'attack syria'),\n",
              " (-10.794984555596727, 'attend'),\n",
              " (-10.794984555596727, 'avert'),\n",
              " (-10.794984555596727, 'away new'),\n",
              " (-10.794984555596727, 'away new york'),\n",
              " (-10.794984555596727, 'back new'),\n",
              " (-10.794984555596727, 'back new york'),\n",
              " (-10.794984555596727, 'baltimor'),\n",
              " (-10.794984555596727, 'ban breitbart'),\n",
              " (-10.794984555596727, 'ban new'),\n",
              " (-10.794984555596727, 'ban new york'),\n",
              " (-10.794984555596727, 'bangladesh'),\n",
              " (-10.794984555596727, 'barron trump'),\n",
              " (-10.794984555596727, 'basic'),\n",
              " (-10.794984555596727, 'basketbal'),\n",
              " (-10.794984555596727, 'basketbal player'),\n",
              " (-10.794984555596727, 'baton'),\n",
              " (-10.794984555596727, 'baton roug'),\n",
              " (-10.794984555596727, 'battl new'),\n",
              " (-10.794984555596727, 'battl new york'),\n",
              " (-10.794984555596727, 'bay'),\n",
              " (-10.794984555596727, 'beach new'),\n",
              " (-10.794984555596727, 'beach new york'),\n",
              " (-10.794984555596727, 'begin new'),\n",
              " (-10.794984555596727, 'behead photo'),\n",
              " (-10.794984555596727, 'behind trump'),\n",
              " (-10.794984555596727, 'berkeley breitbart'),\n",
              " (-10.794984555596727, 'betsi'),\n",
              " (-10.794984555596727, 'betsi devo'),\n",
              " (-10.794984555596727, 'bill breitbart'),\n",
              " (-10.794984555596727, 'bill new'),\n",
              " (-10.794984555596727, 'bill new york'),\n",
              " (-10.794984555596727, 'bill reilli'),\n",
              " (-10.794984555596727, 'billi'),\n",
              " (-10.794984555596727, 'blue state'),\n",
              " (-10.794984555596727, 'blue state blue'),\n",
              " (-10.794984555596727, 'bolster'),\n",
              " (-10.794984555596727, 'border patrol'),\n",
              " (-10.794984555596727, 'border patrol agent'),\n",
              " (-10.794984555596727, 'border state'),\n",
              " (-10.794984555596727, 'border wall'),\n",
              " (-10.794984555596727, 'border wall breitbart'),\n",
              " (-10.794984555596727, 'bowl'),\n",
              " (-10.794984555596727, 'box offic'),\n",
              " (-10.794984555596727, 'bradi'),\n",
              " (-10.794984555596727, 'breath'),\n",
              " (-10.794984555596727, 'breitbart news daili'),\n",
              " (-10.794984555596727, 'brief new'),\n",
              " (-10.794984555596727, 'brief new york'),\n",
              " (-10.794984555596727, 'broadway'),\n",
              " (-10.794984555596727, 'bronx'),\n",
              " (-10.794984555596727, 'brooklyn'),\n",
              " (-10.794984555596727, 'brooklyn new'),\n",
              " (-10.794984555596727, 'brooklyn new york'),\n",
              " (-10.794984555596727, 'bureaucrat'),\n",
              " (-10.794984555596727, 'caitlyn'),\n",
              " (-10.794984555596727, 'caitlyn jenner'),\n",
              " (-10.794984555596727, 'cal'),\n",
              " (-10.794984555596727, 'california today'),\n",
              " (-10.794984555596727, 'calm'),\n",
              " (-10.794984555596727, 'campaign breitbart'),\n",
              " (-10.794984555596727, 'campaign new'),\n",
              " (-10.794984555596727, 'campaign new york'),\n",
              " (-10.794984555596727, 'campu breitbart'),\n",
              " (-10.794984555596727, 'cann'),\n",
              " (-10.794984555596727, 'car new'),\n",
              " (-10.794984555596727, 'car new york'),\n",
              " (-10.794984555596727, 'care act'),\n",
              " (-10.794984555596727, 'care act new'),\n",
              " (-10.794984555596727, 'care bill'),\n",
              " (-10.794984555596727, 'care breitbart'),\n",
              " (-10.794984555596727, 'carri fisher'),\n",
              " (-10.794984555596727, 'carson'),\n",
              " (-10.794984555596727, 'case new'),\n",
              " (-10.794984555596727, 'case new york'),\n",
              " (-10.794984555596727, 'castro'),\n",
              " (-10.794984555596727, 'caucu'),\n",
              " (-10.794984555596727, 'ceas'),\n",
              " (-10.794984555596727, 'ceas fire'),\n",
              " (-10.794984555596727, 'chamber'),\n",
              " (-10.794984555596727, 'championship'),\n",
              " (-10.794984555596727, 'championship new'),\n",
              " (-10.794984555596727, 'championship new york'),\n",
              " (-10.794984555596727, 'chang new'),\n",
              " (-10.794984555596727, 'chang new york'),\n",
              " (-10.794984555596727, 'charg new york'),\n",
              " (-10.794984555596727, 'charleston'),\n",
              " (-10.794984555596727, 'charlott'),\n",
              " (-10.794984555596727, 'cher'),\n",
              " (-10.794984555596727, 'chief new'),\n",
              " (-10.794984555596727, 'chief new york'),\n",
              " (-10.794984555596727, 'china new york'),\n",
              " (-10.794984555596727, 'chri christi'),\n",
              " (-10.794984555596727, 'christi'),\n",
              " (-10.794984555596727, 'christoph'),\n",
              " (-10.794984555596727, 'chuck'),\n",
              " (-10.794984555596727, 'chuck todd'),\n",
              " (-10.794984555596727, 'circuit'),\n",
              " (-10.794984555596727, 'citi new'),\n",
              " (-10.794984555596727, 'citi new york'),\n",
              " (-10.794984555596727, 'citizenship'),\n",
              " (-10.794984555596727, 'clinton new york'),\n",
              " (-10.794984555596727, 'clue'),\n",
              " (-10.794984555596727, 'coach'),\n",
              " (-10.794984555596727, 'colleg new'),\n",
              " (-10.794984555596727, 'colleg new york'),\n",
              " (-10.794984555596727, 'collid'),\n",
              " (-10.794984555596727, 'collin'),\n",
              " (-10.794984555596727, 'comedi'),\n",
              " (-10.794984555596727, 'comedi central'),\n",
              " (-10.794984555596727, 'comey fire'),\n",
              " (-10.794984555596727, 'commission'),\n",
              " (-10.794984555596727, 'common core'),\n",
              " (-10.794984555596727, 'common ground'),\n",
              " (-10.794984555596727, 'compet'),\n",
              " (-10.794984555596727, 'complex'),\n",
              " (-10.794984555596727, 'conceal'),\n",
              " (-10.794984555596727, 'confirm hear'),\n",
              " (-10.794984555596727, 'congress breitbart'),\n",
              " (-10.794984555596727, 'congress new york'),\n",
              " (-10.794984555596727, 'control new'),\n",
              " (-10.794984555596727, 'control new york'),\n",
              " (-10.794984555596727, 'convent new'),\n",
              " (-10.794984555596727, 'convent new york'),\n",
              " (-10.794984555596727, 'corner'),\n",
              " (-10.794984555596727, 'coulter'),\n",
              " (-10.794984555596727, 'counsel'),\n",
              " (-10.794984555596727, 'countri breitbart'),\n",
              " (-10.794984555596727, 'cours'),\n",
              " (-10.794984555596727, 'court block'),\n",
              " (-10.794984555596727, 'court new'),\n",
              " (-10.794984555596727, 'court new york'),\n",
              " (-10.794984555596727, 'court rule new'),\n",
              " (-10.794984555596727, 'cpac'),\n",
              " (-10.794984555596727, 'crash new'),\n",
              " (-10.794984555596727, 'crash new york'),\n",
              " (-10.794984555596727, 'crime breitbart'),\n",
              " (-10.794984555596727, 'crisi new'),\n",
              " (-10.794984555596727, 'crisi new york'),\n",
              " (-10.794984555596727, 'critic new'),\n",
              " (-10.794984555596727, 'crown'),\n",
              " (-10.794984555596727, 'cunningham'),\n",
              " (-10.794984555596727, 'curb'),\n",
              " (-10.794984555596727, 'davo'),\n",
              " (-10.794984555596727, 'day breitbart'),\n",
              " (-10.794984555596727, 'day new york'),\n",
              " (-10.794984555596727, 'day parad'),\n",
              " (-10.794984555596727, 'dead new'),\n",
              " (-10.794984555596727, 'dead new york'),\n",
              " (-10.794984555596727, 'deal breitbart'),\n",
              " (-10.794984555596727, 'deal new'),\n",
              " (-10.794984555596727, 'deal new york'),\n",
              " (-10.794984555596727, 'death new'),\n",
              " (-10.794984555596727, 'death new york'),\n",
              " (-10.794984555596727, 'debat new'),\n",
              " (-10.794984555596727, 'debat new york'),\n",
              " (-10.794984555596727, 'debbi reynold'),\n",
              " (-10.794984555596727, 'defi'),\n",
              " (-10.794984555596727, 'defund'),\n",
              " (-10.794984555596727, 'delingpol'),\n",
              " (-10.794984555596727, 'dem rep'),\n",
              " (-10.794984555596727, 'dem sen'),\n",
              " (-10.794984555596727, 'democrat breitbart'),\n",
              " (-10.794984555596727, 'democrat new'),\n",
              " (-10.794984555596727, 'democrat new york'),\n",
              " (-10.794984555596727, 'deport breitbart'),\n",
              " (-10.794984555596727, 'despair'),\n",
              " (-10.794984555596727, 'devo'),\n",
              " (-10.794984555596727, 'dh'),\n",
              " (-10.794984555596727, 'die new'),\n",
              " (-10.794984555596727, 'die new york'),\n",
              " (-10.794984555596727, 'diego'),\n",
              " (-10.794984555596727, 'disappoint'),\n",
              " (-10.794984555596727, 'divorc'),\n",
              " (-10.794984555596727, 'donald trump breitbart'),\n",
              " (-10.794984555596727, 'donald trump campaign'),\n",
              " (-10.794984555596727, 'donald trump inaugur'),\n",
              " (-10.794984555596727, 'dossier'),\n",
              " (-10.794984555596727, 'drama'),\n",
              " (-10.794984555596727, 'drive car'),\n",
              " (-10.794984555596727, 'drug new'),\n",
              " (-10.794984555596727, 'drug new york'),\n",
              " (-10.794984555596727, 'dunham'),\n",
              " (-10.794984555596727, 'dylann'),\n",
              " (-10.794984555596727, 'dylann roof'),\n",
              " (-10.794984555596727, 'eas'),\n",
              " (-10.794984555596727, 'easter'),\n",
              " (-10.794984555596727, 'economi new'),\n",
              " (-10.794984555596727, 'ecuador'),\n",
              " (-10.794984555596727, 'effort new york'),\n",
              " (-10.794984555596727, 'egyptair'),\n",
              " (-10.794984555596727, 'elect breitbart'),\n",
              " (-10.794984555596727, 'elect loss'),\n",
              " (-10.794984555596727, 'elect new york'),\n",
              " (-10.794984555596727, 'els new'),\n",
              " (-10.794984555596727, 'els new york'),\n",
              " (-10.794984555596727, 'embassi jerusalem'),\n",
              " (-10.794984555596727, 'emmi'),\n",
              " (-10.794984555596727, 'end new'),\n",
              " (-10.794984555596727, 'end new york'),\n",
              " (-10.794984555596727, 'england'),\n",
              " (-10.794984555596727, 'england patriot'),\n",
              " (-10.794984555596727, 'epa'),\n",
              " (-10.794984555596727, 'era new'),\n",
              " (-10.794984555596727, 'era new york'),\n",
              " (-10.794984555596727, 'espn'),\n",
              " (-10.794984555596727, 'europ new york'),\n",
              " (-10.794984555596727, 'european union'),\n",
              " (-10.794984555596727, 'even brief'),\n",
              " (-10.794984555596727, 'even brief new'),\n",
              " (-10.794984555596727, 'event breitbart'),\n",
              " (-10.794984555596727, 'execut order breitbart'),\n",
              " (-10.794984555596727, 'expand'),\n",
              " (-10.794984555596727, 'explain new'),\n",
              " (-10.794984555596727, 'explain new york'),\n",
              " (-10.794984555596727, 'extradit'),\n",
              " (-10.794984555596727, 'face new'),\n",
              " (-10.794984555596727, 'faction'),\n",
              " (-10.794984555596727, 'fake news breitbart'),\n",
              " (-10.794984555596727, 'fake news new'),\n",
              " (-10.794984555596727, 'falluja'),\n",
              " (-10.794984555596727, 'familiar'),\n",
              " (-10.794984555596727, 'farewel'),\n",
              " (-10.794984555596727, 'fargo'),\n",
              " (-10.794984555596727, 'fatal shoot'),\n",
              " (-10.794984555596727, 'fear new york'),\n",
              " (-10.794984555596727, 'fear trump'),\n",
              " (-10.794984555596727, 'feinstein'),\n",
              " (-10.794984555596727, 'fidel'),\n",
              " (-10.794984555596727, 'fidel castro'),\n",
              " (-10.794984555596727, 'fieri'),\n",
              " (-10.794984555596727, 'fight new'),\n",
              " (-10.794984555596727, 'fight new york'),\n",
              " (-10.794984555596727, 'fight trump'),\n",
              " (-10.794984555596727, 'filibust'),\n",
              " (-10.794984555596727, 'fillon'),\n",
              " (-10.794984555596727, 'find new york'),\n",
              " (-10.794984555596727, 'fire breitbart'),\n",
              " (-10.794984555596727, 'fire new york'),\n",
              " (-10.794984555596727, 'fisher'),\n",
              " (-10.794984555596727, 'fitton'),\n",
              " (-10.794984555596727, 'flight new'),\n",
              " (-10.794984555596727, 'flight new york'),\n",
              " (-10.794984555596727, 'fmr'),\n",
              " (-10.794984555596727, 'fort'),\n",
              " (-10.794984555596727, 'found new'),\n",
              " (-10.794984555596727, 'found new york'),\n",
              " (-10.794984555596727, 'fran oi'),\n",
              " (-10.794984555596727, 'fran oi fillon'),\n",
              " (-10.794984555596727, 'franc new'),\n",
              " (-10.794984555596727, 'franc new york'),\n",
              " (-10.794984555596727, 'freedom caucu'),\n",
              " (-10.794984555596727, 'french presidenti'),\n",
              " (-10.794984555596727, 'friday even'),\n",
              " (-10.794984555596727, 'friday even brief'),\n",
              " (-10.794984555596727, 'fs'),\n",
              " (-10.794984555596727, 'futur new'),\n",
              " (-10.794984555596727, 'futur new york'),\n",
              " (-10.794984555596727, 'gaffney'),\n",
              " (-10.794984555596727, 'game breitbart'),\n",
              " (-10.794984555596727, 'game new'),\n",
              " (-10.794984555596727, 'game new york'),\n",
              " (-10.794984555596727, 'gawker'),\n",
              " (-10.794984555596727, 'gener new'),\n",
              " (-10.794984555596727, 'gener new york'),\n",
              " (-10.794984555596727, 'georg michael'),\n",
              " (-10.794984555596727, 'get back'),\n",
              " (-10.794984555596727, 'get new'),\n",
              " (-10.794984555596727, 'go new york'),\n",
              " (-10.794984555596727, 'golden globe'),\n",
              " (-10.794984555596727, 'golden state'),\n",
              " (-10.794984555596727, 'golden state warrior'),\n",
              " (-10.794984555596727, 'goodel'),\n",
              " (-10.794984555596727, 'gop rep'),\n",
              " (-10.794984555596727, 'gop sen'),\n",
              " (-10.794984555596727, 'gorka'),\n",
              " (-10.794984555596727, 'gorsuch'),\n",
              " (-10.794984555596727, 'gorsuch breitbart'),\n",
              " (-10.794984555596727, 'gorsuch confirm'),\n",
              " (-10.794984555596727, 'govern new york'),\n",
              " (-10.794984555596727, 'grammi'),\n",
              " (-10.794984555596727, 'gray'),\n",
              " (-10.794984555596727, 'griffin'),\n",
              " (-10.794984555596727, 'grow new'),\n",
              " (-10.794984555596727, 'grow new york'),\n",
              " (-10.794984555596727, 'guant'),\n",
              " (-10.794984555596727, 'guant namo'),\n",
              " (-10.794984555596727, 'gulf'),\n",
              " (-10.794984555596727, 'gymnast'),\n",
              " (-10.794984555596727, 'hack new'),\n",
              " (-10.794984555596727, 'hack new york'),\n",
              " (-10.794984555596727, 'hbo'),\n",
              " (-10.794984555596727, 'health bill'),\n",
              " (-10.794984555596727, 'health care bill'),\n",
              " (-10.794984555596727, 'health insur'),\n",
              " (-10.794984555596727, 'health law'),\n",
              " (-10.794984555596727, 'healthcar bill'),\n",
              " (-10.794984555596727, 'hear new'),\n",
              " (-10.794984555596727, 'hear new york'),\n",
              " (-10.794984555596727, 'heart new'),\n",
              " (-10.794984555596727, 'heart new york'),\n",
              " (-10.794984555596727, 'high school'),\n",
              " (-10.794984555596727, 'histori new'),\n",
              " (-10.794984555596727, 'histori new york'),\n",
              " (-10.794984555596727, 'hockey'),\n",
              " (-10.794984555596727, 'holiday'),\n",
              " (-10.794984555596727, 'home new'),\n",
              " (-10.794984555596727, 'home new york'),\n",
              " (-10.794984555596727, 'hometown'),\n",
              " (-10.794984555596727, 'horribl'),\n",
              " (-10.794984555596727, 'hous breitbart'),\n",
              " (-10.794984555596727, 'hous new york'),\n",
              " (-10.794984555596727, 'hungari'),\n",
              " (-10.794984555596727, 'hurrican matthew'),\n",
              " (-10.794984555596727, 'imam'),\n",
              " (-10.794984555596727, 'immigr order'),\n",
              " (-10.794984555596727, 'inaugur speech'),\n",
              " (-10.794984555596727, 'inquiri new'),\n",
              " (-10.794984555596727, 'inquiri new york'),\n",
              " (-10.794984555596727, 'intend'),\n",
              " (-10.794984555596727, 'interest rate'),\n",
              " (-10.794984555596727, 'investig breitbart'),\n",
              " (-10.794984555596727, 'investig new york'),\n",
              " (-10.794984555596727, 'investig trump'),\n",
              " (-10.794984555596727, 'isi new'),\n",
              " (-10.794984555596727, 'isi new york'),\n",
              " (-10.794984555596727, 'islam state support'),\n",
              " (-10.794984555596727, 'isol'),\n",
              " (-10.794984555596727, 'issu new'),\n",
              " (-10.794984555596727, 'issu new york'),\n",
              " (-10.794984555596727, 'jacki'),\n",
              " (-10.794984555596727, 'jake'),\n",
              " (-10.794984555596727, 'jane'),\n",
              " (-10.794984555596727, 'jare kushner'),\n",
              " (-10.794984555596727, 'jerri'),\n",
              " (-10.794984555596727, 'jerri brown'),\n",
              " (-10.794984555596727, 'jo'),\n",
              " (-10.794984555596727, 'job breitbart'),\n",
              " (-10.794984555596727, 'job new'),\n",
              " (-10.794984555596727, 'job new york'),\n",
              " (-10.794984555596727, 'jong'),\n",
              " (-10.794984555596727, 'jong nam'),\n",
              " (-10.794984555596727, 'jong un'),\n",
              " (-10.794984555596727, 'journey'),\n",
              " (-10.794984555596727, 'jr'),\n",
              " (-10.794984555596727, 'judici'),\n",
              " (-10.794984555596727, 'justin'),\n",
              " (-10.794984555596727, 'kabul'),\n",
              " (-10.794984555596727, 'kathi'),\n",
              " (-10.794984555596727, 'kathi griffin'),\n",
              " (-10.794984555596727, 'kati'),\n",
              " (-10.794984555596727, 'kellogg'),\n",
              " (-10.794984555596727, 'kevin'),\n",
              " (-10.794984555596727, 'kill new'),\n",
              " (-10.794984555596727, 'kill new york'),\n",
              " (-10.794984555596727, 'kim jong'),\n",
              " (-10.794984555596727, 'kim jong nam'),\n",
              " (-10.794984555596727, 'kim jong un'),\n",
              " (-10.794984555596727, 'know know'),\n",
              " (-10.794984555596727, 'know new york'),\n",
              " (-10.794984555596727, 'korea new'),\n",
              " (-10.794984555596727, 'korea new york'),\n",
              " (-10.794984555596727, 'krauthamm'),\n",
              " (-10.794984555596727, 'kushner'),\n",
              " (-10.794984555596727, 'la la'),\n",
              " (-10.794984555596727, 'la la land'),\n",
              " (-10.794984555596727, 'la land'),\n",
              " (-10.794984555596727, 'labour'),\n",
              " (-10.794984555596727, 'lago'),\n",
              " (-10.794984555596727, 'latin'),\n",
              " (-10.794984555596727, 'lauderdal'),\n",
              " (-10.794984555596727, 'law breitbart'),\n",
              " (-10.794984555596727, 'law new'),\n",
              " (-10.794984555596727, 'law new york'),\n",
              " (-10.794984555596727, 'lawyer say'),\n",
              " (-10.794984555596727, 'le pen'),\n",
              " (-10.794984555596727, 'leader new'),\n",
              " (-10.794984555596727, 'leader new york'),\n",
              " (-10.794984555596727, 'leaker'),\n",
              " (-10.794984555596727, 'legitim'),\n",
              " (-10.794984555596727, 'lena'),\n",
              " (-10.794984555596727, 'lena dunham'),\n",
              " (-10.794984555596727, 'levin'),\n",
              " (-10.794984555596727, 'lewi'),\n",
              " (-10.794984555596727, 'life new'),\n",
              " (-10.794984555596727, 'life new york'),\n",
              " (-10.794984555596727, 'linda'),\n",
              " (-10.794984555596727, 'linda sarsour'),\n",
              " (-10.794984555596727, 'line new'),\n",
              " (-10.794984555596727, 'line new york'),\n",
              " (-10.794984555596727, 'listen new'),\n",
              " (-10.794984555596727, 'listen new york'),\n",
              " (-10.794984555596727, 'lite'),\n",
              " (-10.794984555596727, 'live new'),\n",
              " (-10.794984555596727, 'live new york'),\n",
              " (-10.794984555596727, 'lo angel'),\n",
              " (-10.794984555596727, 'locht'),\n",
              " (-10.794984555596727, 'london attack'),\n",
              " (-10.794984555596727, 'long island'),\n",
              " (-10.794984555596727, 'loss new'),\n",
              " (-10.794984555596727, 'loss new york'),\n",
              " (-10.794984555596727, 'louvr'),\n",
              " (-10.794984555596727, 'machin new'),\n",
              " (-10.794984555596727, 'machin new york'),\n",
              " (-10.794984555596727, 'macron'),\n",
              " (-10.794984555596727, 'madonna'),\n",
              " (-10.794984555596727, 'maker'),\n",
              " (-10.794984555596727, 'malaysia'),\n",
              " (-10.794984555596727, 'mall'),\n",
              " (-10.794984555596727, 'man new'),\n",
              " (-10.794984555596727, 'man new york'),\n",
              " (-10.794984555596727, 'manchin'),\n",
              " (-10.794984555596727, 'manuel'),\n",
              " (-10.794984555596727, 'mar'),\n",
              " (-10.794984555596727, 'mar lago'),\n",
              " (-10.794984555596727, 'marcher'),\n",
              " (-10.794984555596727, 'marin le'),\n",
              " (-10.794984555596727, 'marin le pen'),\n",
              " (-10.794984555596727, 'market new'),\n",
              " (-10.794984555596727, 'market new york'),\n",
              " (-10.794984555596727, 'marlow'),\n",
              " (-10.794984555596727, 'match'),\n",
              " (-10.794984555596727, 'maxin'),\n",
              " (-10.794984555596727, 'maxin water'),\n",
              " (-10.794984555596727, 'mcconnel'),\n",
              " (-10.794984555596727, 'media breitbart'),\n",
              " (-10.794984555596727, 'media new'),\n",
              " (-10.794984555596727, 'media new york'),\n",
              " (-10.794984555596727, 'medicaid'),\n",
              " (-10.794984555596727, 'meet new'),\n",
              " (-10.794984555596727, 'memori day'),\n",
              " (-10.794984555596727, 'merger'),\n",
              " (-10.794984555596727, 'meryl'),\n",
              " (-10.794984555596727, 'meryl streep'),\n",
              " (-10.794984555596727, 'mexican border'),\n",
              " (-10.794984555596727, 'mexican cartel'),\n",
              " (-10.794984555596727, 'michael phelp'),\n",
              " (-10.794984555596727, 'militari new'),\n",
              " (-10.794984555596727, 'militari new york'),\n",
              " (-10.794984555596727, 'million new york'),\n",
              " (-10.794984555596727, 'milo breitbart'),\n",
              " (-10.794984555596727, 'milo event'),\n",
              " (-10.794984555596727, 'miss new'),\n",
              " (-10.794984555596727, 'miss new york'),\n",
              " (-10.794984555596727, 'mnuchin'),\n",
              " (-10.794984555596727, 'model new'),\n",
              " (-10.794984555596727, 'model new york'),\n",
              " (-10.794984555596727, 'modi'),\n",
              " (-10.794984555596727, 'monday brief'),\n",
              " (-10.794984555596727, 'monday brief new'),\n",
              " (-10.794984555596727, 'monday even'),\n",
              " (-10.794984555596727, 'monday even brief'),\n",
              " (-10.794984555596727, 'money new'),\n",
              " (-10.794984555596727, 'money new york'),\n",
              " (-10.794984555596727, 'month new'),\n",
              " (-10.794984555596727, 'month new york'),\n",
              " (-10.794984555596727, 'monument'),\n",
              " (-10.794984555596727, 'moonlight'),\n",
              " (-10.794984555596727, 'morn brief'),\n",
              " (-10.794984555596727, 'morn brief new'),\n",
              " (-10.794984555596727, 'muhammad ali'),\n",
              " (-10.794984555596727, 'multipl'),\n",
              " (-10.794984555596727, 'mulvaney'),\n",
              " (-10.794984555596727, 'myanmar'),\n",
              " (-10.794984555596727, 'nam'),\n",
              " (-10.794984555596727, 'name new'),\n",
              " (-10.794984555596727, 'namo'),\n",
              " (-10.794984555596727, 'nanci'),\n",
              " (-10.794984555596727, 'nanci pelosi'),\n",
              " (-10.794984555596727, 'narendra'),\n",
              " (-10.794984555596727, 'narendra modi'),\n",
              " (-10.794984555596727, 'nat'),\n",
              " (-10.794984555596727, 'nation new'),\n",
              " (-10.794984555596727, 'nation new york'),\n",
              " (-10.794984555596727, 'nation secur advis'),\n",
              " (-10.794984555596727, 'navi seal'),\n",
              " (-10.794984555596727, 'near texa'),\n",
              " (-10.794984555596727, 'near texa border'),\n",
              " (-10.794984555596727, 'neil gorsuch'),\n",
              " (-10.794984555596727, 'netflix'),\n",
              " (-10.794984555596727, 'new england'),\n",
              " (-10.794984555596727, 'new england patriot'),\n",
              " (-10.794984555596727, 'new year eve'),\n",
              " (-10.794984555596727, 'new york new'),\n",
              " (-10.794984555596727, 'new york state'),\n",
              " (-10.794984555596727, 'news breitbart'),\n",
              " (-10.794984555596727, 'news cnn'),\n",
              " (-10.794984555596727, 'news daili'),\n",
              " (-10.794984555596727, 'news new'),\n",
              " (-10.794984555596727, 'news new york'),\n",
              " (-10.794984555596727, 'night new'),\n",
              " (-10.794984555596727, 'night new york'),\n",
              " (-10.794984555596727, 'nobel prize'),\n",
              " (-10.794984555596727, 'nomin'),\n",
              " (-10.794984555596727, 'nuclear option'),\n",
              " (-10.794984555596727, 'nune'),\n",
              " (-10.794984555596727, 'obama breitbart'),\n",
              " (-10.794984555596727, 'obama era'),\n",
              " (-10.794984555596727, 'obamacar breitbart'),\n",
              " (-10.794984555596727, 'obamacar lite'),\n",
              " (-10.794984555596727, 'obamacar repeal'),\n",
              " (-10.794984555596727, 'obamacar replac'),\n",
              " (-10.794984555596727, 'odd'),\n",
              " (-10.794984555596727, 'offic new'),\n",
              " (-10.794984555596727, 'offic new york'),\n",
              " (-10.794984555596727, 'offici say'),\n",
              " (-10.794984555596727, 'offici say new'),\n",
              " (-10.794984555596727, 'often'),\n",
              " (-10.794984555596727, 'oi'),\n",
              " (-10.794984555596727, 'oi fillon'),\n",
              " (-10.794984555596727, 'oliv'),\n",
              " (-10.794984555596727, 'olymp new'),\n",
              " (-10.794984555596727, 'olymp new york'),\n",
              " (-10.794984555596727, 'one new'),\n",
              " (-10.794984555596727, 'one new york'),\n",
              " (-10.794984555596727, 'op'),\n",
              " (-10.794984555596727, 'open door'),\n",
              " (-10.794984555596727, 'open new york'),\n",
              " (-10.794984555596727, 'oper new'),\n",
              " (-10.794984555596727, 'oppos trump'),\n",
              " (-10.794984555596727, 'order breitbart'),\n",
              " (-10.794984555596727, 'order new'),\n",
              " (-10.794984555596727, 'order new york'),\n",
              " (-10.794984555596727, 'orlando shoot'),\n",
              " (-10.794984555596727, 'orlean'),\n",
              " (-10.794984555596727, 'orovil'),\n",
              " (-10.794984555596727, 'outcri'),\n",
              " (-10.794984555596727, 'outlet'),\n",
              " (-10.794984555596727, 'overhaul'),\n",
              " (-10.794984555596727, 'pari agreement'),\n",
              " (-10.794984555596727, 'parti new'),\n",
              " (-10.794984555596727, 'parti new york'),\n",
              " (-10.794984555596727, 'passport'),\n",
              " (-10.794984555596727, 'past new'),\n",
              " (-10.794984555596727, 'past new york'),\n",
              " (-10.794984555596727, 'path new york'),\n",
              " (-10.794984555596727, 'patrol agent'),\n",
              " (-10.794984555596727, 'paul ryan obamacar'),\n",
              " (-10.794984555596727, 'pelosi'),\n",
              " (-10.794984555596727, 'penguin'),\n",
              " (-10.794984555596727, 'peopl breitbart'),\n",
              " (-10.794984555596727, 'perez'),\n",
              " (-10.794984555596727, 'persist'),\n",
              " (-10.794984555596727, 'person new york'),\n",
              " (-10.794984555596727, 'phelp'),\n",
              " (-10.794984555596727, 'pioneer'),\n",
              " (-10.794984555596727, 'plan new'),\n",
              " (-10.794984555596727, 'plan new york'),\n",
              " (-10.794984555596727, 'plane crash'),\n",
              " (-10.794984555596727, 'playoff'),\n",
              " (-10.794984555596727, 'poland'),\n",
              " (-10.794984555596727, 'polic new'),\n",
              " (-10.794984555596727, 'polic new york'),\n",
              " (-10.794984555596727, 'polic say'),\n",
              " (-10.794984555596727, 'polic say new'),\n",
              " (-10.794984555596727, 'polic shoot'),\n",
              " (-10.794984555596727, 'polici breitbart'),\n",
              " (-10.794984555596727, 'polici new'),\n",
              " (-10.794984555596727, 'polici new york'),\n",
              " (-10.794984555596727, 'polit new'),\n",
              " (-10.794984555596727, 'polit new york'),\n",
              " (-10.794984555596727, 'politico'),\n",
              " (-10.794984555596727, 'post new'),\n",
              " (-10.794984555596727, 'post new york'),\n",
              " (-10.794984555596727, 'pound'),\n",
              " (-10.794984555596727, 'power new york'),\n",
              " (-10.794984555596727, 'pregnanc'),\n",
              " (-10.794984555596727, 'pregnant'),\n",
              " (-10.794984555596727, 'presid breitbart'),\n",
              " (-10.794984555596727, 'presid new'),\n",
              " (-10.794984555596727, 'presid new york'),\n",
              " (-10.794984555596727, 'presid trump breitbart'),\n",
              " (-10.794984555596727, 'presidenti debat'),\n",
              " (-10.794984555596727, 'press breitbart'),\n",
              " (-10.794984555596727, 'preview'),\n",
              " (-10.794984555596727, 'price new'),\n",
              " (-10.794984555596727, 'price new york'),\n",
              " (-10.794984555596727, 'priebu'),\n",
              " (-10.794984555596727, 'prison new'),\n",
              " (-10.794984555596727, 'prison new york'),\n",
              " (-10.794984555596727, 'problem new'),\n",
              " (-10.794984555596727, 'problem new york'),\n",
              " (-10.794984555596727, 'profession'),\n",
              " (-10.794984555596727, 'prompt'),\n",
              " (-10.794984555596727, 'protest breitbart'),\n",
              " (-10.794984555596727, 'protest new'),\n",
              " (-10.794984555596727, 'proud'),\n",
              " (-10.794984555596727, 'pruitt'),\n",
              " (-10.794984555596727, 'publish'),\n",
              " (-10.794984555596727, 'puerto'),\n",
              " (-10.794984555596727, 'quebec'),\n",
              " (-10.794984555596727, 'race new'),\n",
              " (-10.794984555596727, 'race new york'),\n",
              " (-10.794984555596727, 'rampag'),\n",
              " (-10.794984555596727, 'rand'),\n",
              " (-10.794984555596727, 'rand paul'),\n",
              " (-10.794984555596727, 'rang'),\n",
              " (-10.794984555596727, 'rebuk'),\n",
              " (-10.794984555596727, 'recal'),\n",
              " (-10.794984555596727, 'redston'),\n",
              " (-10.794984555596727, 'regist'),\n",
              " (-10.794984555596727, 'rein'),\n",
              " (-10.794984555596727, 'reinc'),\n",
              " (-10.794984555596727, 'reinc priebu'),\n",
              " (-10.794984555596727, 'reinstat'),\n",
              " (-10.794984555596727, 'repeal breitbart'),\n",
              " (-10.794984555596727, 'repeal obamacar'),\n",
              " (-10.794984555596727, 'repeat'),\n",
              " (-10.794984555596727, 'replac bill'),\n",
              " (-10.794984555596727, 'report ask'),\n",
              " (-10.794984555596727, 'report breitbart'),\n",
              " (-10.794984555596727, 'report obama'),\n",
              " (-10.794984555596727, 'report say'),\n",
              " (-10.794984555596727, 'report say new'),\n",
              " (-10.794984555596727, 'report trump'),\n",
              " (-10.794984555596727, 'republican new'),\n",
              " (-10.794984555596727, 'republican new york'),\n",
              " (-10.794984555596727, 'reshap'),\n",
              " (-10.794984555596727, 'rethink'),\n",
              " (-10.794984555596727, 'rex'),\n",
              " (-10.794984555596727, 'rex tillerson'),\n",
              " (-10.794984555596727, 'rhetor'),\n",
              " (-10.794984555596727, 'rico'),\n",
              " (-10.794984555596727, 'right breitbart'),\n",
              " (-10.794984555596727, 'right new'),\n",
              " (-10.794984555596727, 'right new york'),\n",
              " (-10.794984555596727, 'rio'),\n",
              " (-10.794984555596727, 'rio olymp'),\n",
              " (-10.794984555596727, 'riot breitbart'),\n",
              " (-10.794984555596727, 'rodrigo'),\n",
              " (-10.794984555596727, 'rodrigo dutert'),\n",
              " (-10.794984555596727, 'roger ail'),\n",
              " (-10.794984555596727, 'roug'),\n",
              " (-10.794984555596727, 'rout'),\n",
              " (-10.794984555596727, 'rule breitbart'),\n",
              " (-10.794984555596727, 'rule new'),\n",
              " (-10.794984555596727, 'rule new york'),\n",
              " (-10.794984555596727, 'russia new york'),\n",
              " (-10.794984555596727, 'russia probe'),\n",
              " (-10.794984555596727, 'russian ambassador'),\n",
              " (-10.794984555596727, 'russian hack'),\n",
              " (-10.794984555596727, 'ryan locht'),\n",
              " (-10.794984555596727, 'ryan obamacar'),\n",
              " (-10.794984555596727, 'ryan obamacar lite'),\n",
              " (-10.794984555596727, 'ryancar'),\n",
              " (-10.794984555596727, 'san diego'),\n",
              " (-10.794984555596727, 'sarsour'),\n",
              " (-10.794984555596727, 'saturday'),\n",
              " (-10.794984555596727, 'saturday night'),\n",
              " (-10.794984555596727, 'saturday night live'),\n",
              " (-10.794984555596727, 'say new'),\n",
              " (-10.794984555596727, 'say new york'),\n",
              " (-10.794984555596727, 'scalis'),\n",
              " (-10.794984555596727, 'scandal breitbart'),\n",
              " (-10.794984555596727, 'scandal new'),\n",
              " (-10.794984555596727, 'scandal new york'),\n",
              " (-10.794984555596727, 'school new'),\n",
              " (-10.794984555596727, 'school new york'),\n",
              " (-10.794984555596727, 'schumer'),\n",
              " (-10.794984555596727, 'schwarzenegg'),\n",
              " (-10.794984555596727, 'scott pruitt'),\n",
              " (-10.794984555596727, 'scrambl'),\n",
              " (-10.794984555596727, 'sea new'),\n",
              " (-10.794984555596727, 'sea new york'),\n",
              " (-10.794984555596727, 'sean spicer'),\n",
              " (-10.794984555596727, 'sear'),\n",
              " (-10.794984555596727, 'season new'),\n",
              " (-10.794984555596727, 'season new york'),\n",
              " (-10.794984555596727, 'secretari new'),\n",
              " (-10.794984555596727, 'secretari new york'),\n",
              " (-10.794984555596727, 'secur advis'),\n",
              " (-10.794984555596727, 'secur council'),\n",
              " (-10.794984555596727, 'segment'),\n",
              " (-10.794984555596727, 'self drive car'),\n",
              " (-10.794984555596727, 'senat breitbart'),\n",
              " (-10.794984555596727, 'senat confirm'),\n",
              " (-10.794984555596727, 'settlement new'),\n",
              " (-10.794984555596727, 'settlement new york'),\n",
              " (-10.794984555596727, 'sex offend'),\n",
              " (-10.794984555596727, 'sexual abus'),\n",
              " (-10.794984555596727, 'sharp'),\n",
              " (-10.794984555596727, 'shinzo'),\n",
              " (-10.794984555596727, 'shinzo abe'),\n",
              " (-10.794984555596727, 'shoot new'),\n",
              " (-10.794984555596727, 'shoot new york'),\n",
              " (-10.794984555596727, 'show new'),\n",
              " (-10.794984555596727, 'show new york'),\n",
              " (-10.794984555596727, 'skill'),\n",
              " (-10.794984555596727, 'skip'),\n",
              " (-10.794984555596727, 'smile'),\n",
              " (-10.794984555596727, 'smuggler'),\n",
              " (-10.794984555596727, 'somalia'),\n",
              " (-10.794984555596727, 'son law'),\n",
              " (-10.794984555596727, 'south carolina'),\n",
              " (-10.794984555596727, 'south korean'),\n",
              " (-10.794984555596727, 'spacex'),\n",
              " (-10.794984555596727, 'speaker paul'),\n",
              " (-10.794984555596727, 'speaker paul ryan'),\n",
              " (-10.794984555596727, 'specul'),\n",
              " (-10.794984555596727, 'speech breitbart'),\n",
              " (-10.794984555596727, 'speech new york'),\n",
              " (-10.794984555596727, 'spicer'),\n",
              " (-10.794984555596727, 'sport'),\n",
              " (-10.794984555596727, 'sport new'),\n",
              " (-10.794984555596727, 'sport new york'),\n",
              " (-10.794984555596727, 'spotlight'),\n",
              " (-10.794984555596727, 'stanc'),\n",
              " (-10.794984555596727, 'stanford'),\n",
              " (-10.794984555596727, 'star new'),\n",
              " (-10.794984555596727, 'star new york'),\n",
              " (-10.794984555596727, 'start new'),\n",
              " (-10.794984555596727, 'start new york'),\n",
              " (-10.794984555596727, 'state breitbart'),\n",
              " (-10.794984555596727, 'state new'),\n",
              " (-10.794984555596727, 'state new york'),\n",
              " (-10.794984555596727, 'state support'),\n",
              " (-10.794984555596727, 'state warrior'),\n",
              " (-10.794984555596727, 'stem'),\n",
              " (-10.794984555596727, 'step new'),\n",
              " (-10.794984555596727, 'step new york'),\n",
              " (-10.794984555596727, 'stephen bannon'),\n",
              " (-10.794984555596727, 'stockholm'),\n",
              " (-10.794984555596727, 'stori new'),\n",
              " (-10.794984555596727, 'stori new york'),\n",
              " (-10.794984555596727, 'strand'),\n",
              " (-10.794984555596727, 'streep'),\n",
              " (-10.794984555596727, 'street new york'),\n",
              " (-10.794984555596727, 'streisand'),\n",
              " (-10.794984555596727, 'student new'),\n",
              " (-10.794984555596727, 'student new york'),\n",
              " (-10.794984555596727, 'stumbl'),\n",
              " (-10.794984555596727, 'suburb'),\n",
              " (-10.794984555596727, 'subway'),\n",
              " (-10.794984555596727, 'suddenli'),\n",
              " (-10.794984555596727, 'sunday'),\n",
              " (-10.794984555596727, 'super bowl'),\n",
              " (-10.794984555596727, 'support donald'),\n",
              " (-10.794984555596727, 'support donald trump'),\n",
              " (-10.794984555596727, 'suprem court new'),\n",
              " (-10.794984555596727, 'swift'),\n",
              " (-10.794984555596727, 'swimmer'),\n",
              " (-10.794984555596727, 'syria new york'),\n",
              " (-10.794984555596727, 'syria strike'),\n",
              " (-10.794984555596727, 'taiwan'),\n",
              " (-10.794984555596727, 'takata'),\n",
              " (-10.794984555596727, 'takeaway'),\n",
              " (-10.794984555596727, 'taliban'),\n",
              " (-10.794984555596727, 'talk new'),\n",
              " (-10.794984555596727, 'tap'),\n",
              " (-10.794984555596727, 'tax return'),\n",
              " (-10.794984555596727, 'team new'),\n",
              " (-10.794984555596727, 'team new york'),\n",
              " (-10.794984555596727, 'temporari'),\n",
              " (-10.794984555596727, 'term new'),\n",
              " (-10.794984555596727, 'term new york'),\n",
              " (-10.794984555596727, 'terror breitbart'),\n",
              " (-10.794984555596727, 'terror new'),\n",
              " (-10.794984555596727, 'test new york'),\n",
              " (-10.794984555596727, 'texa border'),\n",
              " (-10.794984555596727, 'theresa'),\n",
              " (-10.794984555596727, 'theresa may'),\n",
              " (-10.794984555596727, 'thing new'),\n",
              " (-10.794984555596727, 'thing new york'),\n",
              " (-10.794984555596727, 'thursday'),\n",
              " (-10.794984555596727, 'thursday even'),\n",
              " (-10.794984555596727, 'thursday even brief'),\n",
              " (-10.794984555596727, 'tie new'),\n",
              " (-10.794984555596727, 'tie new york'),\n",
              " (-10.794984555596727, 'tillerson'),\n",
              " (-10.794984555596727, 'time new'),\n",
              " (-10.794984555596727, 'time new york'),\n",
              " (-10.794984555596727, 'titl new'),\n",
              " (-10.794984555596727, 'titl new york'),\n",
              " (-10.794984555596727, 'todd'),\n",
              " (-10.794984555596727, 'toll'),\n",
              " (-10.794984555596727, 'tom bradi'),\n",
              " (-10.794984555596727, 'tone'),\n",
              " (-10.794984555596727, 'tough'),\n",
              " (-10.794984555596727, 'tourist'),\n",
              " (-10.794984555596727, 'town hall'),\n",
              " (-10.794984555596727, 'town new'),\n",
              " (-10.794984555596727, 'town new york'),\n",
              " (-10.794984555596727, 'trailer breitbart'),\n",
              " (-10.794984555596727, 'tran'),\n",
              " (-10.794984555596727, 'transit team'),\n",
              " (-10.794984555596727, 'travel ban'),\n",
              " (-10.794984555596727, 'travel ban new'),\n",
              " (-10.794984555596727, 'trial new'),\n",
              " (-10.794984555596727, 'trial new york'),\n",
              " (-10.794984555596727, 'trophi'),\n",
              " (-10.794984555596727, 'trove'),\n",
              " (-10.794984555596727, 'trudeau'),\n",
              " (-10.794984555596727, 'trump admin'),\n",
              " (-10.794984555596727, 'trump border'),\n",
              " (-10.794984555596727, 'trump breitbart'),\n",
              " (-10.794984555596727, 'trump budget'),\n",
              " (-10.794984555596727, 'trump celebr'),\n",
              " (-10.794984555596727, 'trump choic'),\n",
              " (-10.794984555596727, 'trump could'),\n",
              " (-10.794984555596727, 'trump execut'),\n",
              " (-10.794984555596727, 'trump execut order'),\n",
              " (-10.794984555596727, 'trump fire'),\n",
              " (-10.794984555596727, 'trump first day'),\n",
              " (-10.794984555596727, 'trump go'),\n",
              " (-10.794984555596727, 'trump immigr'),\n",
              " (-10.794984555596727, 'trump immigr order'),\n",
              " (-10.794984555596727, 'trump keep'),\n",
              " (-10.794984555596727, 'trump may'),\n",
              " (-10.794984555596727, 'trump new york'),\n",
              " (-10.794984555596727, 'trump nomine'),\n",
              " (-10.794984555596727, 'trump order'),\n",
              " (-10.794984555596727, 'trump pick'),\n",
              " (-10.794984555596727, 'trump polici'),\n",
              " (-10.794984555596727, 'trump talk'),\n",
              " (-10.794984555596727, 'trump travel'),\n",
              " (-10.794984555596727, 'trump travel ban'),\n",
              " (-10.794984555596727, 'trump tri'),\n",
              " (-10.794984555596727, 'trump visit'),\n",
              " (-10.794984555596727, 'trump vow'),\n",
              " (-10.794984555596727, 'trump wall'),\n",
              " (-10.794984555596727, 'trump women'),\n",
              " (-10.794984555596727, 'tuesday brief'),\n",
              " (-10.794984555596727, 'tuesday brief new'),\n",
              " (-10.794984555596727, 'tuesday even'),\n",
              " (-10.794984555596727, 'tuesday even brief'),\n",
              " (-10.794984555596727, 'turmoil'),\n",
              " (-10.794984555596727, 'twitter breitbart'),\n",
              " (-10.794984555596727, 'two year'),\n",
              " (-10.794984555596727, 'uc davi'),\n",
              " (-10.794984555596727, 'unlik'),\n",
              " (-10.794984555596727, 'unmask'),\n",
              " (-10.794984555596727, 'upend'),\n",
              " (-10.794984555596727, 'uphold'),\n",
              " (-10.794984555596727, 'us new york'),\n",
              " (-10.794984555596727, 'vacat'),\n",
              " (-10.794984555596727, 'vacat new'),\n",
              " (-10.794984555596727, 'vacat new york'),\n",
              " (-10.794984555596727, 'vanish'),\n",
              " (-10.794984555596727, 'veto'),\n",
              " (-10.794984555596727, 'violenc new'),\n",
              " (-10.794984555596727, 'violenc new york'),\n",
              " (-10.794984555596727, 'virgil'),\n",
              " (-10.794984555596727, 'vogu'),\n",
              " (-10.794984555596727, 'volkswagen'),\n",
              " (-10.794984555596727, 'vote new'),\n",
              " (-10.794984555596727, 'vote new york'),\n",
              " (-10.794984555596727, 'voter id'),\n",
              " (-10.794984555596727, 'wait new'),\n",
              " (-10.794984555596727, 'wall breitbart'),\n",
              " (-10.794984555596727, 'war new'),\n",
              " (-10.794984555596727, 'war new york'),\n",
              " (-10.794984555596727, 'wari'),\n",
              " (-10.794984555596727, 'warn new'),\n",
              " (-10.794984555596727, 'warn new york'),\n",
              " (-10.794984555596727, 'warner'),\n",
              " (-10.794984555596727, 'warrior'),\n",
              " (-10.794984555596727, 'washington new'),\n",
              " (-10.794984555596727, 'washington new york'),\n",
              " (-10.794984555596727, 'water new'),\n",
              " (-10.794984555596727, 'water new york'),\n",
              " (-10.794984555596727, 'way new'),\n",
              " (-10.794984555596727, 'way new york'),\n",
              " (-10.794984555596727, 'wednesday brief'),\n",
              " (-10.794984555596727, 'wednesday brief new'),\n",
              " (-10.794984555596727, 'wednesday even'),\n",
              " (-10.794984555596727, 'wednesday even brief'),\n",
              " (-10.794984555596727, 'week new'),\n",
              " (-10.794984555596727, 'week new york'),\n",
              " (-10.794984555596727, 'weekend brief'),\n",
              " (-10.794984555596727, 'weekend brief new'),\n",
              " (-10.794984555596727, 'weekend new'),\n",
              " (-10.794984555596727, 'weekend new york'),\n",
              " (-10.794984555596727, 'well fargo'),\n",
              " (-10.794984555596727, 'west bank'),\n",
              " (-10.794984555596727, 'westminst'),\n",
              " (-10.794984555596727, 'wh'),\n",
              " (-10.794984555596727, 'white hous breitbart'),\n",
              " (-10.794984555596727, 'white hous new'),\n",
              " (-10.794984555596727, 'white nationalist'),\n",
              " (-10.794984555596727, 'wider'),\n",
              " (-10.794984555596727, 'wield'),\n",
              " (-10.794984555596727, 'wildfir'),\n",
              " (-10.794984555596727, 'wimbledon'),\n",
              " (-10.794984555596727, 'win breitbart'),\n",
              " (-10.794984555596727, 'wiretap claim'),\n",
              " (-10.794984555596727, 'women march'),\n",
              " (-10.794984555596727, 'women new'),\n",
              " (-10.794984555596727, 'women new york'),\n",
              " (-10.794984555596727, 'work new'),\n",
              " (-10.794984555596727, 'work new york'),\n",
              " (-10.794984555596727, 'world new'),\n",
              " (-10.794984555596727, 'world new york'),\n",
              " (-10.794984555596727, 'worri new'),\n",
              " (-10.794984555596727, 'worri new york'),\n",
              " (-10.794984555596727, 'wrestl'),\n",
              " (-10.794984555596727, 'yahoo'),\n",
              " (-10.794984555596727, 'year breitbart'),\n",
              " (-10.794984555596727, 'year eve'),\n",
              " (-10.794984555596727, 'year new york'),\n",
              " (-10.794984555596727, 'york new'),\n",
              " (-10.794984555596727, 'york new york'),\n",
              " (-10.794984555596727, 'york state'),\n",
              " (-10.794984555596727, 'zone new'),\n",
              " (-10.794984555596727, 'zone new york'),\n",
              " (-10.794984555596727, 'zoo'),\n",
              " (-10.047770153766505, 'academi'),\n",
              " (-10.047770153766505, 'accid'),\n",
              " (-10.047770153766505, 'aclu'),\n",
              " (-10.047770153766505, 'acr'),\n",
              " (-10.047770153766505, 'adopt'),\n",
              " (-10.047770153766505, 'ahead trump'),\n",
              " (-10.047770153766505, 'airbnb'),\n",
              " (-10.047770153766505, 'airlin'),\n",
              " (-10.047770153766505, 'album'),\n",
              " (-10.047770153766505, 'alex jone'),\n",
              " (-10.047770153766505, 'allegedli'),\n",
              " (-10.047770153766505, 'allianc'),\n",
              " (-10.047770153766505, 'america new'),\n",
              " (-10.047770153766505, 'anchor'),\n",
              " (-10.047770153766505, 'anger'),\n",
              " (-10.047770153766505, 'anti israel'),\n",
              " (-10.047770153766505, 'anti semit'),\n",
              " (-10.047770153766505, 'anymor'),\n",
              " (-10.047770153766505, 'applic'),\n",
              " (-10.047770153766505, 'approach'),\n",
              " (-10.047770153766505, 'appropri'),\n",
              " (-10.047770153766505, 'around world'),\n",
              " (-10.047770153766505, 'artifici'),\n",
              " (-10.047770153766505, 'asylum seeker'),\n",
              " (-10.047770153766505, 'atlant'),\n",
              " (-10.047770153766505, 'attack polic'),\n",
              " (-10.047770153766505, 'attack trump'),\n",
              " (-10.047770153766505, 'auto'),\n",
              " (-10.047770153766505, 'aviv'),\n",
              " (-10.047770153766505, 'back trump'),\n",
              " (-10.047770153766505, 'baghdad'),\n",
              " (-10.047770153766505, 'band'),\n",
              " (-10.047770153766505, 'barrier'),\n",
              " (-10.047770153766505, 'barron'),\n",
              " (-10.047770153766505, 'beach'),\n",
              " (-10.047770153766505, 'beer'),\n",
              " (-10.047770153766505, 'behead'),\n",
              " (-10.047770153766505, 'beij'),\n",
              " (-10.047770153766505, 'ben'),\n",
              " (-10.047770153766505, 'berlin'),\n",
              " (-10.047770153766505, 'bet'),\n",
              " (-10.047770153766505, 'beyonc'),\n",
              " (-10.047770153766505, 'bill cosbi'),\n",
              " (-10.047770153766505, 'bitter'),\n",
              " (-10.047770153766505, 'blasio'),\n",
              " (-10.047770153766505, 'block trump'),\n",
              " (-10.047770153766505, 'boat'),\n",
              " (-10.047770153766505, 'boe'),\n",
              " (-10.047770153766505, 'boko'),\n",
              " (-10.047770153766505, 'boko haram'),\n",
              " (-10.047770153766505, 'bolton'),\n",
              " (-10.047770153766505, 'bomber'),\n",
              " (-10.047770153766505, 'bori'),\n",
              " (-10.047770153766505, 'boss'),\n",
              " (-10.047770153766505, 'bow'),\n",
              " (-10.047770153766505, 'branch'),\n",
              " (-10.047770153766505, 'breitbart news'),\n",
              " (-10.047770153766505, 'bribe'),\n",
              " (-10.047770153766505, 'brought'),\n",
              " (-10.047770153766505, 'built'),\n",
              " (-10.047770153766505, 'bull'),\n",
              " ...]"
            ]
          },
          "metadata": {
            "tags": []
          },
          "execution_count": 49
        }
      ]
    },
    {
      "cell_type": "code",
      "metadata": {
        "id": "l5JbBTEvb2Oc"
      },
      "source": [
        "with open('/content/drive/MyDrive/Fake1/multinomial_hyper_pickle1.pkl','wb') as f:\n",
        "  pickle.dump(classifier,f)"
      ],
      "execution_count": 50,
      "outputs": []
    },
    {
      "cell_type": "code",
      "metadata": {
        "id": "30wWiDP0M_3a"
      },
      "source": [
        ""
      ],
      "execution_count": null,
      "outputs": []
    },
    {
      "cell_type": "markdown",
      "metadata": {
        "id": "ngE53yi9i_I1"
      },
      "source": [
        "**NOW Detecting for individual string given in Search Box**\n"
      ]
    },
    {
      "cell_type": "code",
      "metadata": {
        "id": "dnmvBbFojHzK"
      },
      "source": [
        "search = str(\"Russian warships ready to strike terrorists near Aleppo 08.11.2016 | Source: Source: Mil.ru Attack aircraft of the Russian aircraft carrier Admiral Kuznetsov get ready to strike terrorists positions in the vicinity of Aleppo, sources at the Russian Defense Ministry said, RBC reports. Insurgents attempts to break into Aleppo from outside are meaningless, the source said. The main task of the aircraft carrier aviation group is to strike missile and air blows on the terrorists , whose goal is to enter Aleppo. After the attacks on terrorists positions, one will have to forget about the support for insurgents from the outside, the source said. The Russian group in the Mediterranean Sea consists of the Admiral Kuznetsov aircraft carrier , the heavy nuclear missile cruiser Pyotr Velikiy (Peter the Great) and large anti-submarine ships Severomorsk and Vice-Admiral Kulakov. Russia has increased intelligence activities in Syria to establish the areas, where terrorists are concentrated, as well as the routes that they use to move from one area to another. The militants took advantage of the humanitarian pause and regrouped their forces to prepare for a new breakthrough into the eastern part of Aleppo, the source added. According to the source, Russia will use new weapons during the upcoming attacks on terrorists . It was said that the Russian warships in the Mediterranean Sea will launch Caliber cruise missiles, although it was not specified which ships would be responsible for the launches. Pravda.Ru Russian warships travel to Syria\")"
      ],
      "execution_count": 51,
      "outputs": []
    },
    {
      "cell_type": "code",
      "metadata": {
        "id": "RKgbw9brjbpV"
      },
      "source": [
        "Testingcorpus = []"
      ],
      "execution_count": 52,
      "outputs": []
    },
    {
      "cell_type": "code",
      "metadata": {
        "id": "FJXZmD3EZpYx"
      },
      "source": [
        "review = re.sub('[^a-zA-Z]', ' ', search)\n",
        "review = review.lower()\n",
        "review = review.split()\n",
        "    \n",
        "review = [ps.stem(word) for word in review if not word in stopwords.words('english')]\n",
        "review = ' '.join(review)\n",
        "Testingcorpus.append(review)"
      ],
      "execution_count": 53,
      "outputs": []
    },
    {
      "cell_type": "code",
      "metadata": {
        "id": "S3Uvfs2QZ8Tu"
      },
      "source": [
        "XTEST = cv.transform(Testingcorpus).toarray()"
      ],
      "execution_count": 54,
      "outputs": []
    },
    {
      "cell_type": "code",
      "metadata": {
        "colab": {
          "base_uri": "https://localhost:8080/"
        },
        "id": "ee8I31vPdMDr",
        "outputId": "9bd5e38b-ed25-4cb3-d62f-b7a1af1a9142"
      },
      "source": [
        "XTEST"
      ],
      "execution_count": 55,
      "outputs": [
        {
          "output_type": "execute_result",
          "data": {
            "text/plain": [
              "array([[0, 0, 0, ..., 0, 0, 0]])"
            ]
          },
          "metadata": {
            "tags": []
          },
          "execution_count": 55
        }
      ]
    },
    {
      "cell_type": "code",
      "metadata": {
        "id": "NYuZrv2id-XY"
      },
      "source": [
        "count_df = pd.DataFrame(XTEST, columns=cv.get_feature_names())"
      ],
      "execution_count": 56,
      "outputs": []
    },
    {
      "cell_type": "code",
      "metadata": {
        "colab": {
          "base_uri": "https://localhost:8080/",
          "height": 163
        },
        "id": "Vx7GI0BMeHvk",
        "outputId": "40458fab-131a-4df4-aae2-f64630bcc403"
      },
      "source": [
        "count_df.head()"
      ],
      "execution_count": 57,
      "outputs": [
        {
          "output_type": "execute_result",
          "data": {
            "text/html": [
              "<div>\n",
              "<style scoped>\n",
              "    .dataframe tbody tr th:only-of-type {\n",
              "        vertical-align: middle;\n",
              "    }\n",
              "\n",
              "    .dataframe tbody tr th {\n",
              "        vertical-align: top;\n",
              "    }\n",
              "\n",
              "    .dataframe thead th {\n",
              "        text-align: right;\n",
              "    }\n",
              "</style>\n",
              "<table border=\"1\" class=\"dataframe\">\n",
              "  <thead>\n",
              "    <tr style=\"text-align: right;\">\n",
              "      <th></th>\n",
              "      <th>abandon</th>\n",
              "      <th>abc</th>\n",
              "      <th>abc news</th>\n",
              "      <th>abduct</th>\n",
              "      <th>abe</th>\n",
              "      <th>abedin</th>\n",
              "      <th>abl</th>\n",
              "      <th>abort</th>\n",
              "      <th>abroad</th>\n",
              "      <th>absolut</th>\n",
              "      <th>abstain</th>\n",
              "      <th>absurd</th>\n",
              "      <th>abus</th>\n",
              "      <th>abus new</th>\n",
              "      <th>abus new york</th>\n",
              "      <th>academi</th>\n",
              "      <th>accept</th>\n",
              "      <th>access</th>\n",
              "      <th>access pipelin</th>\n",
              "      <th>access pipelin protest</th>\n",
              "      <th>accid</th>\n",
              "      <th>accident</th>\n",
              "      <th>accord</th>\n",
              "      <th>account</th>\n",
              "      <th>accus</th>\n",
              "      <th>accus trump</th>\n",
              "      <th>achiev</th>\n",
              "      <th>acknowledg</th>\n",
              "      <th>acknowledg emf</th>\n",
              "      <th>acknowledg emf damag</th>\n",
              "      <th>aclu</th>\n",
              "      <th>acquit</th>\n",
              "      <th>acquitt</th>\n",
              "      <th>acr</th>\n",
              "      <th>across</th>\n",
              "      <th>act</th>\n",
              "      <th>act like</th>\n",
              "      <th>act new</th>\n",
              "      <th>act new york</th>\n",
              "      <th>action</th>\n",
              "      <th>...</th>\n",
              "      <th>yahoo</th>\n",
              "      <th>yale</th>\n",
              "      <th>ye</th>\n",
              "      <th>year</th>\n",
              "      <th>year ago</th>\n",
              "      <th>year breitbart</th>\n",
              "      <th>year eve</th>\n",
              "      <th>year later</th>\n",
              "      <th>year new</th>\n",
              "      <th>year new york</th>\n",
              "      <th>year old</th>\n",
              "      <th>year old girl</th>\n",
              "      <th>year sinc</th>\n",
              "      <th>yemen</th>\n",
              "      <th>yet</th>\n",
              "      <th>yet anoth</th>\n",
              "      <th>yiannopoulo</th>\n",
              "      <th>yield</th>\n",
              "      <th>yo</th>\n",
              "      <th>york</th>\n",
              "      <th>york citi</th>\n",
              "      <th>york new</th>\n",
              "      <th>york new york</th>\n",
              "      <th>york state</th>\n",
              "      <th>york time</th>\n",
              "      <th>yorker</th>\n",
              "      <th>young</th>\n",
              "      <th>youth</th>\n",
              "      <th>youtub</th>\n",
              "      <th>zealand</th>\n",
              "      <th>zero</th>\n",
              "      <th>zika</th>\n",
              "      <th>zika viru</th>\n",
              "      <th>zionist</th>\n",
              "      <th>zone</th>\n",
              "      <th>zone new</th>\n",
              "      <th>zone new york</th>\n",
              "      <th>zoo</th>\n",
              "      <th>zu</th>\n",
              "      <th>zuckerberg</th>\n",
              "    </tr>\n",
              "  </thead>\n",
              "  <tbody>\n",
              "    <tr>\n",
              "      <th>0</th>\n",
              "      <td>0</td>\n",
              "      <td>0</td>\n",
              "      <td>0</td>\n",
              "      <td>0</td>\n",
              "      <td>0</td>\n",
              "      <td>0</td>\n",
              "      <td>0</td>\n",
              "      <td>0</td>\n",
              "      <td>0</td>\n",
              "      <td>0</td>\n",
              "      <td>0</td>\n",
              "      <td>0</td>\n",
              "      <td>0</td>\n",
              "      <td>0</td>\n",
              "      <td>0</td>\n",
              "      <td>0</td>\n",
              "      <td>0</td>\n",
              "      <td>0</td>\n",
              "      <td>0</td>\n",
              "      <td>0</td>\n",
              "      <td>0</td>\n",
              "      <td>0</td>\n",
              "      <td>1</td>\n",
              "      <td>0</td>\n",
              "      <td>0</td>\n",
              "      <td>0</td>\n",
              "      <td>0</td>\n",
              "      <td>0</td>\n",
              "      <td>0</td>\n",
              "      <td>0</td>\n",
              "      <td>0</td>\n",
              "      <td>0</td>\n",
              "      <td>0</td>\n",
              "      <td>0</td>\n",
              "      <td>0</td>\n",
              "      <td>0</td>\n",
              "      <td>0</td>\n",
              "      <td>0</td>\n",
              "      <td>0</td>\n",
              "      <td>0</td>\n",
              "      <td>...</td>\n",
              "      <td>0</td>\n",
              "      <td>0</td>\n",
              "      <td>0</td>\n",
              "      <td>0</td>\n",
              "      <td>0</td>\n",
              "      <td>0</td>\n",
              "      <td>0</td>\n",
              "      <td>0</td>\n",
              "      <td>0</td>\n",
              "      <td>0</td>\n",
              "      <td>0</td>\n",
              "      <td>0</td>\n",
              "      <td>0</td>\n",
              "      <td>0</td>\n",
              "      <td>0</td>\n",
              "      <td>0</td>\n",
              "      <td>0</td>\n",
              "      <td>0</td>\n",
              "      <td>0</td>\n",
              "      <td>0</td>\n",
              "      <td>0</td>\n",
              "      <td>0</td>\n",
              "      <td>0</td>\n",
              "      <td>0</td>\n",
              "      <td>0</td>\n",
              "      <td>0</td>\n",
              "      <td>0</td>\n",
              "      <td>0</td>\n",
              "      <td>0</td>\n",
              "      <td>0</td>\n",
              "      <td>0</td>\n",
              "      <td>0</td>\n",
              "      <td>0</td>\n",
              "      <td>0</td>\n",
              "      <td>0</td>\n",
              "      <td>0</td>\n",
              "      <td>0</td>\n",
              "      <td>0</td>\n",
              "      <td>0</td>\n",
              "      <td>0</td>\n",
              "    </tr>\n",
              "  </tbody>\n",
              "</table>\n",
              "<p>1 rows × 5000 columns</p>\n",
              "</div>"
            ],
            "text/plain": [
              "   abandon  abc  abc news  abduct  ...  zone new york  zoo  zu  zuckerberg\n",
              "0        0    0         0       0  ...              0    0   0           0\n",
              "\n",
              "[1 rows x 5000 columns]"
            ]
          },
          "metadata": {
            "tags": []
          },
          "execution_count": 57
        }
      ]
    },
    {
      "cell_type": "code",
      "metadata": {
        "colab": {
          "base_uri": "https://localhost:8080/"
        },
        "id": "xQK2eijLbzBD",
        "outputId": "b56a0bf3-7c61-4b09-b31a-604b45ddf32d"
      },
      "source": [
        "YTEST = pd.Series([])"
      ],
      "execution_count": 58,
      "outputs": [
        {
          "output_type": "stream",
          "text": [
            "/usr/local/lib/python3.7/dist-packages/ipykernel_launcher.py:1: DeprecationWarning: The default dtype for empty Series will be 'object' instead of 'float64' in a future version. Specify a dtype explicitly to silence this warning.\n",
            "  \"\"\"Entry point for launching an IPython kernel.\n"
          ],
          "name": "stderr"
        }
      ]
    },
    {
      "cell_type": "code",
      "metadata": {
        "id": "cOvNsLFrcOKL"
      },
      "source": [
        "YTEST[0]=1"
      ],
      "execution_count": 90,
      "outputs": []
    },
    {
      "cell_type": "code",
      "metadata": {
        "colab": {
          "base_uri": "https://localhost:8080/"
        },
        "id": "MzQDhMU4Z_fI",
        "outputId": "300896e2-e049-4932-cb88-b91a2e9d7f19"
      },
      "source": [
        "pred1 = model1.predict(XTEST)\n",
        "score = metrics.accuracy_score(YTEST, pred1)\n",
        "print(\"accuracy:   %0.3f\" % score)\n",
        "\n",
        "if YTEST[0]==0 and pred1[0]==0 :\n",
        "  print(\"News was Fake and DETECTED correctly!\")\n",
        "elif YTEST[0]==0 and pred1[0]==1 :\n",
        "  print(\"News was Fake but DETECTED wrong as REAL News!\")\n",
        "elif YTEST[0]==1 and pred1[0]==1 :\n",
        "  print(\"News was Real and DETECTED correctly!\")\n",
        "elif YTEST[0]==1 and pred1[0]==0 :\n",
        "  print(\"News was Real but DETECTED wrong as Fake News!\")\n"
      ],
      "execution_count": 99,
      "outputs": [
        {
          "output_type": "stream",
          "text": [
            "accuracy:   1.000\n",
            "News was Real and DETECTED correctly!\n"
          ],
          "name": "stdout"
        }
      ]
    },
    {
      "cell_type": "code",
      "metadata": {
        "colab": {
          "base_uri": "https://localhost:8080/"
        },
        "id": "cwrNWCw0awl9",
        "outputId": "ed60ecde-da31-41ee-cf1b-be6d0ad80d1f"
      },
      "source": [
        "pred1"
      ],
      "execution_count": 93,
      "outputs": [
        {
          "output_type": "execute_result",
          "data": {
            "text/plain": [
              "array([1])"
            ]
          },
          "metadata": {
            "tags": []
          },
          "execution_count": 93
        }
      ]
    },
    {
      "cell_type": "code",
      "metadata": {
        "colab": {
          "base_uri": "https://localhost:8080/"
        },
        "id": "FLWcJtT6ayZQ",
        "outputId": "33d98624-a3f0-42cb-cceb-4733d6246a5b"
      },
      "source": [
        "y_test"
      ],
      "execution_count": 67,
      "outputs": [
        {
          "output_type": "execute_result",
          "data": {
            "text/plain": [
              "13298    0\n",
              "4816     0\n",
              "5463     1\n",
              "11612    0\n",
              "7476     0\n",
              "        ..\n",
              "11811    1\n",
              "2137     0\n",
              "2730     0\n",
              "14030    0\n",
              "16813    1\n",
              "Name: label, Length: 6035, dtype: int64"
            ]
          },
          "metadata": {
            "tags": []
          },
          "execution_count": 67
        }
      ]
    },
    {
      "cell_type": "code",
      "metadata": {
        "id": "bPre84XHa35s"
      },
      "source": [
        ""
      ],
      "execution_count": null,
      "outputs": []
    }
  ]
}